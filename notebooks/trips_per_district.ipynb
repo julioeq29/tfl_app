{
 "cells": [
  {
   "cell_type": "code",
   "execution_count": 1,
   "metadata": {
    "id": "YnrgdWAn7wYl"
   },
   "outputs": [],
   "source": [
    "import numpy as np\n",
    "import pandas as pd\n",
    "import plotly.express as px\n",
    "# from google.cloud import bigquery\n",
    "# import pydata_google_auth\n",
    "\n",
    "# from google.colab import auth\n",
    "# import pandas as pd\n",
    "\n",
    "# auth.authenticate_user()\n"
   ]
  },
  {
   "cell_type": "code",
   "execution_count": 4,
   "metadata": {
    "id": "Xb8aQ3xmQUIU"
   },
   "outputs": [],
   "source": [
    "# query = '''\n",
    "#   SELECT * \n",
    "#   FROM `tfl-data-lewagon.Dataset02.Dataset02_most_popular_trips`\n",
    "# '''\n",
    "# data = pd.read_gbq(query, project_id=\"tfl-data-lewagon\")\n",
    "# data"
   ]
  },
  {
   "cell_type": "code",
   "execution_count": 3,
   "metadata": {
    "id": "LL5eimk9QlcS"
   },
   "outputs": [],
   "source": [
    "# df_trips = data.copy()\n",
    "# df_trips['start_zone']= df_trips.Start_station_name.map(lambda x: x.split(',', 1)[1].strip())\n",
    "# df_trips['end_zone']  = df_trips.End_station_name.map(lambda x: x.split(',', 1)[1].strip())\n",
    "# df_trips = df_trips.astype({\n",
    "#     'Start_station_latitude': 'float32',\n",
    "#     'Start_station_longitude': 'float32',\n",
    "#     'End_station_latitude': 'float32',\n",
    "#     'End_station_longitude': 'float32',\n",
    "#                            })\n",
    "# df_trips = df_trips.round({\n",
    "#     'Start_station_latitude': 5,\n",
    "#     'Start_station_longitude': 5,\n",
    "#     'End_station_latitude': 5,\n",
    "#     'End_station_longitude': 5,\n",
    "#                            })\n",
    "# df_trips= df_trips.replace(['Kings Cross', 'Lingham Street, Stockwell', 'Parsons Green', 'St Lukes', 'St Pauls', \"St. John's Wood\", 'The Borough'], \n",
    "#                            [\"King's Cross\", 'Stockwell', \"Parson's Green\", \"St. Luke's\", \"St. Paul's\", \"St.John's Wood\", 'Borough'])"
   ]
  },
  {
   "cell_type": "code",
   "execution_count": 5,
   "metadata": {
    "id": "zIlC6dLN51xK"
   },
   "outputs": [],
   "source": [
    "# df_stations= df_trips.groupby(by=['Start_station_name'], as_index=False).agg( \n",
    "#     zone=('start_zone', 'first'),\n",
    "#     avg_lat=('Start_station_latitude', 'max'),\n",
    "#     avg_lon=('Start_station_longitude', 'max'))\n",
    "# df_stations_zone= df_stations.groupby(by=['zone'], as_index=False).agg( \n",
    "#     #trips=('popular_trips', 'sum'),\n",
    "#     avg_lat=('avg_lat', 'mean'),\n",
    "#     avg_lon=('avg_lon', 'mean'))\n",
    "# #df_end_stations.columns=df_start_stations.columns\n",
    "# #df_stations_zone=pd.concat([df_end_stations, df_start_stations])\n",
    "# #df_stations_zone= df_stations_zone.groupby('start_zone', as_index=False).mean()\n",
    "# #df_stations_zone['end_zone']=df_stations_zone.start_zone\n",
    "# #df_stations_zone.columns=['zone', 'avg_lat', 'avg_lon']\n",
    "# df_stations_zone=df_stations_zone.round(5)\n",
    "# df_stations_zone"
   ]
  },
  {
   "cell_type": "code",
   "execution_count": 6,
   "metadata": {
    "id": "-KNFJSFF2trm"
   },
   "outputs": [],
   "source": [
    "# from pandas.core.frame import Suffixes\n",
    "# df_trips_grouped= df_trips.groupby(by=['start_zone', 'end_zone'], as_index=False).agg( \n",
    "#     trips=('popular_trips', 'sum'),\n",
    "#     # avg_start_lat=('Start_station_latitude', 'mean'),\n",
    "#     # avg_start_lon=('Start_station_longitude', 'mean'),\n",
    "#     # avg_end_lat=('End_station_latitude', 'mean'),\n",
    "#     # avg_end_lon=('End_station_longitude', 'mean')\n",
    "# )\n",
    "# df_trips_grouped = df_trips_grouped.merge(df_stations_zone, how='left', left_on='start_zone', right_on='zone').merge(df_stations_zone, how='left', left_on='end_zone', right_on='zone', suffixes=('_start','_end'))\n",
    "# df_trips_grouped = df_trips_grouped.drop(labels=['zone_start', 'zone_end'], axis=1)\n",
    "# #df_trips_grouped = df_trips_grouped[df_trips_grouped.trips>=5000]\n",
    "# df_trips_grouped = df_trips_grouped[df_trips_grouped.start_zone != df_trips_grouped.end_zone]\n",
    "\n",
    "# #df_trips_grouped = df_trips_grouped.sample(1000)\n",
    "\n",
    "# df_trips_grouped.reset_index(inplace=True)"
   ]
  },
  {
   "cell_type": "code",
   "execution_count": 7,
   "metadata": {
    "id": "GcEPasCK_9bc"
   },
   "outputs": [],
   "source": [
    "# df_trips_grouped['lon']=list(zip(df_trips_grouped['avg_lon_start'], df_trips_grouped['avg_lon_end']))\n",
    "# df_trips_grouped['lon']=df_trips_grouped['lon'].map(lambda x: tuple([round(x[0], 5), round(x[1], 5)]))\n",
    "# df_trips_grouped['lat']=list(zip(df_trips_grouped['avg_lat_start'], df_trips_grouped['avg_lat_end']))\n",
    "# df_trips_grouped['lat']=df_trips_grouped['lat'].map(lambda x: tuple([round(x[0], 5), round(x[1], 5)]))\n",
    "# df_trips_grouped['name']=list(zip(df_trips_grouped['start_zone'], df_trips_grouped['end_zone']))\n",
    "# df_trips_grouped['name']= df_trips_grouped['name'].apply(sorted)\n",
    "# df_trips_grouped['name']= df_trips_grouped['name'].map(lambda x: f'{x[0]} - {x[1]}')\n",
    "# df_trips_grouped"
   ]
  },
  {
   "cell_type": "code",
   "execution_count": null,
   "metadata": {
    "id": "Ib3HogKR_9bd"
   },
   "outputs": [],
   "source": [
    "# len(df_trips_grouped.name.drop_duplicates())"
   ]
  },
  {
   "cell_type": "code",
   "execution_count": null,
   "metadata": {
    "id": "-F2ofDOt_9be"
   },
   "outputs": [],
   "source": [
    "# df_trips_zones= df_trips_grouped.groupby(by=['name'], as_index=False).agg( \n",
    "#     trips=('trips', 'sum'),\n",
    "#     lat=('lat', 'first'),\n",
    "#     lon=('lon', 'first')\n",
    "# ).sort_values(by='trips', ascending=False)\n",
    "# df_trips_zones.reset_index(inplace=True)\n",
    "# df_trips_zones"
   ]
  },
  {
   "cell_type": "code",
   "execution_count": 2,
   "metadata": {
    "id": "jtcaY40dUMVC"
   },
   "outputs": [],
   "source": [
    "import plotly.graph_objects as go\n"
   ]
  },
  {
   "cell_type": "code",
   "execution_count": 9,
   "metadata": {
    "id": "0TBs9C6t4Lgt"
   },
   "outputs": [],
   "source": [
    "# from sklearn.preprocessing import MinMaxScaler\n",
    "\n",
    "# scaler = MinMaxScaler()\n",
    "# scaled_trip_total = pd.DataFrame(scaler.fit_transform(df_trips_zones[['trips']]))\n",
    "# scaled_trip_total"
   ]
  },
  {
   "cell_type": "code",
   "execution_count": null,
   "metadata": {
    "id": "B-IoxspNYBO7",
    "scrolled": true
   },
   "outputs": [],
   "source": [
    "# df_trips_zones['trips_scaled'] = scaled_trip_total\n",
    "# #df_trips_grouped['start_zone2'] = df_trips_grouped['start_zone']\n",
    "# df_trips_zones"
   ]
  },
  {
   "cell_type": "code",
   "execution_count": null,
   "metadata": {
    "id": "FouJt5QW_9bi"
   },
   "outputs": [],
   "source": [
    "# df_trips_zones = df_trips_zones[df_trips_zones.trips>=15000]\n",
    "# df_trips_zones"
   ]
  },
  {
   "cell_type": "code",
   "execution_count": 42,
   "metadata": {
    "id": "KAcD_U68wYdo"
   },
   "outputs": [],
   "source": [
    "# df_stations_zone.to_csv('df_stations_zone.csv', index=False)"
   ]
  },
  {
   "cell_type": "code",
   "execution_count": 30,
   "metadata": {},
   "outputs": [
    {
     "name": "stdout",
     "output_type": "stream",
     "text": [
      "(115, 3)\n"
     ]
    },
    {
     "data": {
      "text/html": [
       "<div>\n",
       "<style scoped>\n",
       "    .dataframe tbody tr th:only-of-type {\n",
       "        vertical-align: middle;\n",
       "    }\n",
       "\n",
       "    .dataframe tbody tr th {\n",
       "        vertical-align: top;\n",
       "    }\n",
       "\n",
       "    .dataframe thead th {\n",
       "        text-align: right;\n",
       "    }\n",
       "</style>\n",
       "<table border=\"1\" class=\"dataframe\">\n",
       "  <thead>\n",
       "    <tr style=\"text-align: right;\">\n",
       "      <th></th>\n",
       "      <th>zone</th>\n",
       "      <th>avg_lat</th>\n",
       "      <th>avg_lon</th>\n",
       "    </tr>\n",
       "  </thead>\n",
       "  <tbody>\n",
       "    <tr>\n",
       "      <th>0</th>\n",
       "      <td>Aldgate</td>\n",
       "      <td>51.51398</td>\n",
       "      <td>-0.07464</td>\n",
       "    </tr>\n",
       "    <tr>\n",
       "      <th>1</th>\n",
       "      <td>Angel</td>\n",
       "      <td>51.53324</td>\n",
       "      <td>-0.10652</td>\n",
       "    </tr>\n",
       "    <tr>\n",
       "      <th>2</th>\n",
       "      <td>Avondale</td>\n",
       "      <td>51.51154</td>\n",
       "      <td>-0.21514</td>\n",
       "    </tr>\n",
       "    <tr>\n",
       "      <th>3</th>\n",
       "      <td>Bank</td>\n",
       "      <td>51.51280</td>\n",
       "      <td>-0.09163</td>\n",
       "    </tr>\n",
       "    <tr>\n",
       "      <th>4</th>\n",
       "      <td>Bankside</td>\n",
       "      <td>51.50618</td>\n",
       "      <td>-0.09824</td>\n",
       "    </tr>\n",
       "  </tbody>\n",
       "</table>\n",
       "</div>"
      ],
      "text/plain": [
       "       zone   avg_lat  avg_lon\n",
       "0   Aldgate  51.51398 -0.07464\n",
       "1     Angel  51.53324 -0.10652\n",
       "2  Avondale  51.51154 -0.21514\n",
       "3      Bank  51.51280 -0.09163\n",
       "4  Bankside  51.50618 -0.09824"
      ]
     },
     "execution_count": 30,
     "metadata": {},
     "output_type": "execute_result"
    }
   ],
   "source": [
    "df_stations_zone = pd.read_csv(\"../data/df_stations_zone.csv\")\n",
    "print(df_stations_zone.shape)\n",
    "df_stations_zone.head()"
   ]
  },
  {
   "cell_type": "code",
   "execution_count": 31,
   "metadata": {
    "id": "jEQb7ywcwhjs"
   },
   "outputs": [],
   "source": [
    "# df_trips_zones.to_csv('df_trips_zones.csv', index=False)"
   ]
  },
  {
   "cell_type": "code",
   "execution_count": 33,
   "metadata": {},
   "outputs": [
    {
     "name": "stdout",
     "output_type": "stream",
     "text": [
      "(100, 6)\n"
     ]
    },
    {
     "data": {
      "text/html": [
       "<div>\n",
       "<style scoped>\n",
       "    .dataframe tbody tr th:only-of-type {\n",
       "        vertical-align: middle;\n",
       "    }\n",
       "\n",
       "    .dataframe tbody tr th {\n",
       "        vertical-align: top;\n",
       "    }\n",
       "\n",
       "    .dataframe thead th {\n",
       "        text-align: right;\n",
       "    }\n",
       "</style>\n",
       "<table border=\"1\" class=\"dataframe\">\n",
       "  <thead>\n",
       "    <tr style=\"text-align: right;\">\n",
       "      <th></th>\n",
       "      <th>index</th>\n",
       "      <th>name</th>\n",
       "      <th>trips</th>\n",
       "      <th>lat</th>\n",
       "      <th>lon</th>\n",
       "      <th>trips_scaled</th>\n",
       "    </tr>\n",
       "  </thead>\n",
       "  <tbody>\n",
       "    <tr>\n",
       "      <th>0</th>\n",
       "      <td>4066</td>\n",
       "      <td>Hyde Park - Kensington Gardens</td>\n",
       "      <td>260185</td>\n",
       "      <td>(51.50562, 51.506)</td>\n",
       "      <td>(-0.16149, -0.18487)</td>\n",
       "      <td>1.000000</td>\n",
       "    </tr>\n",
       "    <tr>\n",
       "      <th>1</th>\n",
       "      <td>1265</td>\n",
       "      <td>Bethnal Green - Shoreditch</td>\n",
       "      <td>172041</td>\n",
       "      <td>(51.52744, 51.52416)</td>\n",
       "      <td>(-0.05739, -0.07619)</td>\n",
       "      <td>0.661224</td>\n",
       "    </tr>\n",
       "    <tr>\n",
       "      <th>2</th>\n",
       "      <td>3912</td>\n",
       "      <td>Holborn - Waterloo</td>\n",
       "      <td>165402</td>\n",
       "      <td>(51.51776, 51.50095)</td>\n",
       "      <td>(-0.11324, -0.11342)</td>\n",
       "      <td>0.635708</td>\n",
       "    </tr>\n",
       "    <tr>\n",
       "      <th>3</th>\n",
       "      <td>4075</td>\n",
       "      <td>Hyde Park - Mayfair</td>\n",
       "      <td>156800</td>\n",
       "      <td>(51.50562, 51.50988)</td>\n",
       "      <td>(-0.16149, -0.1479)</td>\n",
       "      <td>0.602647</td>\n",
       "    </tr>\n",
       "    <tr>\n",
       "      <th>4</th>\n",
       "      <td>683</td>\n",
       "      <td>Battersea - Clapham Junction</td>\n",
       "      <td>156729</td>\n",
       "      <td>(51.47151, 51.46406)</td>\n",
       "      <td>(-0.16366, -0.17169)</td>\n",
       "      <td>0.602374</td>\n",
       "    </tr>\n",
       "  </tbody>\n",
       "</table>\n",
       "</div>"
      ],
      "text/plain": [
       "   index                            name   trips                   lat  \\\n",
       "0   4066  Hyde Park - Kensington Gardens  260185    (51.50562, 51.506)   \n",
       "1   1265      Bethnal Green - Shoreditch  172041  (51.52744, 51.52416)   \n",
       "2   3912              Holborn - Waterloo  165402  (51.51776, 51.50095)   \n",
       "3   4075             Hyde Park - Mayfair  156800  (51.50562, 51.50988)   \n",
       "4    683    Battersea - Clapham Junction  156729  (51.47151, 51.46406)   \n",
       "\n",
       "                    lon  trips_scaled  \n",
       "0  (-0.16149, -0.18487)      1.000000  \n",
       "1  (-0.05739, -0.07619)      0.661224  \n",
       "2  (-0.11324, -0.11342)      0.635708  \n",
       "3   (-0.16149, -0.1479)      0.602647  \n",
       "4  (-0.16366, -0.17169)      0.602374  "
      ]
     },
     "execution_count": 33,
     "metadata": {},
     "output_type": "execute_result"
    }
   ],
   "source": [
    "df_trips_zones = pd.read_csv(\"../data/df_trips_zones.csv\", nrows=100)\n",
    "print(df_trips_zones.shape)\n",
    "df_trips_zones.head()"
   ]
  },
  {
   "cell_type": "code",
   "execution_count": 34,
   "metadata": {},
   "outputs": [],
   "source": [
    "df_trips_zones['lat'] = df_trips_zones.lat.apply(lambda x : x.strip(\"()\").split(\", \"))\n",
    "df_trips_zones['lon'] = df_trips_zones.lon.apply(lambda x : x.strip(\"()\").split(\", \"))"
   ]
  },
  {
   "cell_type": "code",
   "execution_count": 35,
   "metadata": {},
   "outputs": [
    {
     "data": {
      "text/plain": [
       "index             int64\n",
       "name             object\n",
       "trips             int64\n",
       "lat              object\n",
       "lon              object\n",
       "trips_scaled    float64\n",
       "dtype: object"
      ]
     },
     "execution_count": 35,
     "metadata": {},
     "output_type": "execute_result"
    }
   ],
   "source": [
    "# res = tuple(map(int, test_str.split(', ')))\n",
    "# df_trips_zones['lat'][0]\n",
    "df_trips_zones.dtypes"
   ]
  },
  {
   "cell_type": "code",
   "execution_count": 36,
   "metadata": {
    "id": "78SUQcWl_9bi"
   },
   "outputs": [],
   "source": [
    "# center= {'lat': df_trips_grouped['avg_lat_start'].mean(), 'lon': df_trips_grouped['avg_lon_start'].mean()}\n",
    "\n",
    "center = {'lat': 51.509865, 'lon': -0.118092}"
   ]
  },
  {
   "cell_type": "code",
   "execution_count": 37,
   "metadata": {
    "colab": {
     "base_uri": "https://localhost:8080/",
     "height": 717
    },
    "id": "rq2dl-vX5XCF",
    "outputId": "3cc45352-b74d-4d3e-b655-d9265baeb103"
   },
   "outputs": [
    {
     "data": {
      "application/vnd.plotly.v1+json": {
       "config": {
        "plotlyServerURL": "https://plot.ly"
       },
       "data": [
        {
         "hovertemplate": "zone=%{text}<br>avg_lat=%{lat}<br>avg_lon=%{lon}<extra></extra>",
         "lat": [
          51.51398,
          51.53324,
          51.51154,
          51.5128,
          51.50618,
          51.52011,
          51.47151,
          51.47738,
          51.515,
          51.49656,
          51.49718,
          51.52744,
          51.5072,
          51.52292,
          51.49946,
          51.5255,
          51.4635,
          51.4955,
          51.53821,
          51.50414,
          51.48862,
          51.46506,
          51.46137,
          51.46406,
          51.5262,
          51.51554,
          51.49292,
          51.53728,
          51.49213,
          51.45941,
          51.49684,
          51.5261,
          51.51778,
          51.52687,
          51.51986,
          51.47634,
          51.51718,
          51.53829,
          51.54031,
          51.53581,
          51.48948,
          51.51776,
          51.50396,
          51.53134,
          51.50562,
          51.46926,
          51.48872,
          51.50034,
          51.506,
          51.53367,
          51.49808,
          51.51095,
          51.5121,
          51.51883,
          51.50423,
          51.52626,
          51.51948,
          51.50988,
          51.52326,
          51.49424,
          51.50981,
          51.5203,
          51.48107,
          51.51904,
          51.51034,
          51.53424,
          51.49797,
          51.48354,
          51.51778,
          51.47204,
          51.48891,
          51.51362,
          51.51844,
          51.46188,
          51.54529,
          51.4988,
          51.47049,
          51.50228,
          51.51053,
          51.50309,
          51.52416,
          51.49313,
          51.5134,
          51.52907,
          51.50561,
          51.49441,
          51.50394,
          51.50703,
          51.52613,
          51.51356,
          51.52981,
          51.51704,
          51.4741,
          51.51027,
          51.5418,
          51.5121,
          51.53038,
          51.50894,
          51.49028,
          51.49382,
          51.53902,
          51.47731,
          51.48986,
          51.45998,
          51.45787,
          51.47301,
          51.50669,
          51.50095,
          51.48486,
          51.48226,
          51.50988,
          51.4876,
          51.49676,
          51.51196,
          51.51808
         ],
         "legendgroup": "",
         "lon": [
          -0.07464,
          -0.10652,
          -0.21514,
          -0.09163,
          -0.09824,
          -0.09512,
          -0.16366,
          -0.1542,
          -0.18647,
          -0.15272,
          -0.073,
          -0.05739,
          -0.0059,
          -0.12635,
          -0.09326,
          -0.02317,
          -0.11478,
          -0.21984,
          -0.14134,
          -0.0204,
          -0.16723,
          -0.14435,
          -0.14878,
          -0.17169,
          -0.10962,
          -0.12301,
          -0.01048,
          -0.0792,
          -0.19276,
          -0.20452,
          -0.10327,
          -0.13489,
          -0.1022,
          -0.10235,
          -0.13867,
          -0.21127,
          -0.09211,
          -0.05902,
          -0.02163,
          -0.07083,
          -0.22358,
          -0.11324,
          -0.21031,
          -0.08565,
          -0.16149,
          -0.14181,
          -0.10729,
          -0.19268,
          -0.18487,
          -0.12209,
          -0.16788,
          -0.20618,
          -0.03294,
          -0.08165,
          -0.08544,
          -0.18231,
          -0.15783,
          -0.1479,
          -0.03619,
          -0.02052,
          -0.08432,
          -0.08794,
          -0.1387,
          -0.21138,
          -0.19818,
          -0.03165,
          -0.2099,
          -0.11382,
          -0.17339,
          -0.20051,
          -0.13785,
          -0.01592,
          -0.2023,
          -0.2143,
          -0.01581,
          -0.0525,
          -0.18915,
          -0.07419,
          -0.05564,
          -0.21891,
          -0.07619,
          -0.15688,
          -0.13325,
          -0.13026,
          -0.1129,
          -0.17807,
          -0.10448,
          -0.1332,
          -0.0929,
          -0.0994,
          -0.17254,
          -0.04924,
          -0.11947,
          -0.12048,
          -0.00481,
          -0.10936,
          -0.15448,
          -0.07437,
          -0.1185,
          -0.14285,
          -0.03903,
          -0.19283,
          -0.09434,
          -0.19446,
          -0.17469,
          -0.13444,
          -0.06397,
          -0.11342,
          -0.18634,
          -0.17975,
          -0.13306,
          -0.20617,
          -0.13301,
          -0.22494,
          -0.06597
         ],
         "marker": {
          "color": "#636efa"
         },
         "mode": "markers+text",
         "name": "",
         "showlegend": false,
         "subplot": "mapbox",
         "text": [
          "Aldgate",
          "Angel",
          "Avondale",
          "Bank",
          "Bankside",
          "Barbican",
          "Battersea",
          "Battersea Park",
          "Bayswater",
          "Belgravia",
          "Bermondsey",
          "Bethnal Green",
          "Blackwall",
          "Bloomsbury",
          "Borough",
          "Bow",
          "Brixton",
          "Brook Green",
          "Camden Town",
          "Canary Wharf",
          "Chelsea",
          "Clapham",
          "Clapham Common",
          "Clapham Junction",
          "Clerkenwell",
          "Covent Garden",
          "Cubitt Town",
          "De Beauvoir Town",
          "Earl's Court",
          "East Putney",
          "Elephant & Castle",
          "Euston",
          "Farringdon",
          "Finsbury",
          "Fitzrovia",
          "Fulham",
          "Guildhall",
          "Hackney Central",
          "Hackney Wick",
          "Haggerston",
          "Hammersmith",
          "Holborn",
          "Holland Park",
          "Hoxton",
          "Hyde Park",
          "Isley Court, Wandsworth Road",
          "Kennington",
          "Kensington",
          "Kensington Gardens",
          "King's Cross",
          "Knightsbridge",
          "Ladbroke Grove",
          "Limehouse",
          "Liverpool Street",
          "London Bridge",
          "Maida Vale",
          "Marylebone",
          "Mayfair",
          "Mile End",
          "Millwall",
          "Monument",
          "Moorgate",
          "Nine Elms",
          "North Kensington",
          "Notting Hill",
          "Old Ford",
          "Olympia",
          "Oval",
          "Paddington",
          "Parson's Green",
          "Pimlico",
          "Poplar",
          "Portobello",
          "Putney",
          "Queen Elizabeth Olympic Park",
          "Rotherhithe",
          "Sands End",
          "Shad Thames",
          "Shadwell",
          "Shepherd's Bush",
          "Shoreditch",
          "Sloane Square",
          "Soho",
          "Somers Town",
          "South Bank",
          "South Kensington",
          "Southwark",
          "St. James's",
          "St. Luke's",
          "St. Paul's",
          "St.John's Wood",
          "Stepney",
          "Stockwell",
          "Strand",
          "Stratford",
          "Temple",
          "The Regent's Park",
          "Tower",
          "Vauxhall",
          "Victoria",
          "Victoria Park",
          "Walham Green",
          "Walworth",
          "Wandsworth",
          "Wandsworth Common",
          "Wandsworth Road",
          "Wapping",
          "Waterloo",
          "West Brompton",
          "West Chelsea",
          "West End",
          "West Kensington",
          "Westminster",
          "White City",
          "Whitechapel"
         ],
         "type": "scattermapbox"
        },
        {
         "hovertext": "Hyde Park - Kensington Gardens",
         "lat": [
          "51.50562",
          "51.506"
         ],
         "line": {
          "color": "red",
          "width": 2
         },
         "lon": [
          "-0.16149",
          "-0.18487"
         ],
         "mode": "lines",
         "name": "Hyde Park - Kensington Gardens",
         "opacity": 1,
         "type": "scattermapbox"
        },
        {
         "hovertext": "Bethnal Green - Shoreditch",
         "lat": [
          "51.52744",
          "51.52416"
         ],
         "line": {
          "color": "red",
          "width": 2
         },
         "lon": [
          "-0.05739",
          "-0.07619"
         ],
         "mode": "lines",
         "name": "Bethnal Green - Shoreditch",
         "opacity": 0.6612243642960366,
         "type": "scattermapbox"
        },
        {
         "hovertext": "Holborn - Waterloo",
         "lat": [
          "51.51776",
          "51.50095"
         ],
         "line": {
          "color": "red",
          "width": 2
         },
         "lon": [
          "-0.11324",
          "-0.11342"
         ],
         "mode": "lines",
         "name": "Holborn - Waterloo",
         "opacity": 0.6357078067828921,
         "type": "scattermapbox"
        },
        {
         "hovertext": "Hyde Park - Mayfair",
         "lat": [
          "51.50562",
          "51.50988"
         ],
         "line": {
          "color": "red",
          "width": 2
         },
         "lon": [
          "-0.16149",
          "-0.1479"
         ],
         "mode": "lines",
         "name": "Hyde Park - Mayfair",
         "opacity": 0.6026465885680902,
         "type": "scattermapbox"
        },
        {
         "hovertext": "Battersea - Clapham Junction",
         "lat": [
          "51.47151",
          "51.46406"
         ],
         "line": {
          "color": "red",
          "width": 2
         },
         "lon": [
          "-0.16366",
          "-0.17169"
         ],
         "mode": "lines",
         "name": "Battersea - Clapham Junction",
         "opacity": 0.6023737047627832,
         "type": "scattermapbox"
        },
        {
         "hovertext": "Holborn - King's Cross",
         "lat": [
          "51.51776",
          "51.53367"
         ],
         "line": {
          "color": "red",
          "width": 2
         },
         "lon": [
          "-0.11324",
          "-0.12209"
         ],
         "mode": "lines",
         "name": "Holborn - King's Cross",
         "opacity": 0.5931533068905082,
         "type": "scattermapbox"
        },
        {
         "hovertext": "Bloomsbury - King's Cross",
         "lat": [
          "51.52292",
          "51.53367"
         ],
         "line": {
          "color": "red",
          "width": 2
         },
         "lon": [
          "-0.12635",
          "-0.12209"
         ],
         "mode": "lines",
         "name": "Bloomsbury - King's Cross",
         "opacity": 0.5714686529532945,
         "type": "scattermapbox"
        },
        {
         "hovertext": "Fulham - Hammersmith",
         "lat": [
          "51.47634",
          "51.48948"
         ],
         "line": {
          "color": "red",
          "width": 2
         },
         "lon": [
          "-0.21127",
          "-0.22358"
         ],
         "mode": "lines",
         "name": "Fulham - Hammersmith",
         "opacity": 0.566445284875319,
         "type": "scattermapbox"
        },
        {
         "hovertext": "Marylebone - Paddington",
         "lat": [
          "51.51948",
          "51.51778"
         ],
         "line": {
          "color": "red",
          "width": 2
         },
         "lon": [
          "-0.15783",
          "-0.17339"
         ],
         "mode": "lines",
         "name": "Marylebone - Paddington",
         "opacity": 0.5518363927066998,
         "type": "scattermapbox"
        },
        {
         "hovertext": "Marylebone - Mayfair",
         "lat": [
          "51.51948",
          "51.50988"
         ],
         "line": {
          "color": "red",
          "width": 2
         },
         "lon": [
          "-0.15783",
          "-0.1479"
         ],
         "mode": "lines",
         "name": "Marylebone - Mayfair",
         "opacity": 0.5393260154352304,
         "type": "scattermapbox"
        },
        {
         "hovertext": "Bloomsbury - Holborn",
         "lat": [
          "51.52292",
          "51.51776"
         ],
         "line": {
          "color": "red",
          "width": 2
         },
         "lon": [
          "-0.12635",
          "-0.11324"
         ],
         "mode": "lines",
         "name": "Bloomsbury - Holborn",
         "opacity": 0.5331611474956184,
         "type": "scattermapbox"
        },
        {
         "hovertext": "Hyde Park - Marylebone",
         "lat": [
          "51.50562",
          "51.51948"
         ],
         "line": {
          "color": "red",
          "width": 2
         },
         "lon": [
          "-0.16149",
          "-0.15783"
         ],
         "mode": "lines",
         "name": "Hyde Park - Marylebone",
         "opacity": 0.5251668050302862,
         "type": "scattermapbox"
        },
        {
         "hovertext": "Hammersmith - West Kensington",
         "lat": [
          "51.48948",
          "51.4876"
         ],
         "line": {
          "color": "red",
          "width": 2
         },
         "lon": [
          "-0.22358",
          "-0.20617"
         ],
         "mode": "lines",
         "name": "Hammersmith - West Kensington",
         "opacity": 0.520766073240476,
         "type": "scattermapbox"
        },
        {
         "hovertext": "Battersea - Battersea Park",
         "lat": [
          "51.47151",
          "51.47738"
         ],
         "line": {
          "color": "red",
          "width": 2
         },
         "lon": [
          "-0.16366",
          "-0.1542"
         ],
         "mode": "lines",
         "name": "Battersea - Battersea Park",
         "opacity": 0.5150547304984164,
         "type": "scattermapbox"
        },
        {
         "hovertext": "Pimlico - Westminster",
         "lat": [
          "51.48891",
          "51.49676"
         ],
         "line": {
          "color": "red",
          "width": 2
         },
         "lon": [
          "-0.13785",
          "-0.13301"
         ],
         "mode": "lines",
         "name": "Pimlico - Westminster",
         "opacity": 0.5136634074347385,
         "type": "scattermapbox"
        },
        {
         "hovertext": "Vauxhall - Waterloo",
         "lat": [
          "51.49028",
          "51.50095"
         ],
         "line": {
          "color": "red",
          "width": 2
         },
         "lon": [
          "-0.1185",
          "-0.11342"
         ],
         "mode": "lines",
         "name": "Vauxhall - Waterloo",
         "opacity": 0.5089282968975801,
         "type": "scattermapbox"
        },
        {
         "hovertext": "Kensington - South Kensington",
         "lat": [
          "51.50034",
          "51.49441"
         ],
         "line": {
          "color": "red",
          "width": 2
         },
         "lon": [
          "-0.19268",
          "-0.17807"
         ],
         "mode": "lines",
         "name": "Kensington - South Kensington",
         "opacity": 0.5075677213049227,
         "type": "scattermapbox"
        },
        {
         "hovertext": "Marylebone - The Regent's Park",
         "lat": [
          "51.51948",
          "51.53038"
         ],
         "line": {
          "color": "red",
          "width": 2
         },
         "lon": [
          "-0.15783",
          "-0.15448"
         ],
         "mode": "lines",
         "name": "Marylebone - The Regent's Park",
         "opacity": 0.5065722719306337,
         "type": "scattermapbox"
        },
        {
         "hovertext": "Fitzrovia - Marylebone",
         "lat": [
          "51.51986",
          "51.51948"
         ],
         "line": {
          "color": "red",
          "width": 2
         },
         "lon": [
          "-0.13867",
          "-0.15783"
         ],
         "mode": "lines",
         "name": "Fitzrovia - Marylebone",
         "opacity": 0.505415398333487,
         "type": "scattermapbox"
        },
        {
         "hovertext": "Hyde Park - Westminster",
         "lat": [
          "51.50562",
          "51.49676"
         ],
         "line": {
          "color": "red",
          "width": 2
         },
         "lon": [
          "-0.16149",
          "-0.13301"
         ],
         "mode": "lines",
         "name": "Hyde Park - Westminster",
         "opacity": 0.4992390000922424,
         "type": "scattermapbox"
        },
        {
         "hovertext": "Vauxhall - Westminster",
         "lat": [
          "51.49028",
          "51.49676"
         ],
         "line": {
          "color": "red",
          "width": 2
         },
         "lon": [
          "-0.1185",
          "-0.13301"
         ],
         "mode": "lines",
         "name": "Vauxhall - Westminster",
         "opacity": 0.4901108446330289,
         "type": "scattermapbox"
        },
        {
         "hovertext": "Pimlico - Victoria",
         "lat": [
          "51.48891",
          "51.49382"
         ],
         "line": {
          "color": "red",
          "width": 2
         },
         "lon": [
          "-0.13785",
          "-0.14285"
         ],
         "mode": "lines",
         "name": "Pimlico - Victoria",
         "opacity": 0.4890731174860868,
         "type": "scattermapbox"
        },
        {
         "hovertext": "Fulham - West Kensington",
         "lat": [
          "51.47634",
          "51.4876"
         ],
         "line": {
          "color": "red",
          "width": 2
         },
         "lon": [
          "-0.21127",
          "-0.20617"
         ],
         "mode": "lines",
         "name": "Fulham - West Kensington",
         "opacity": 0.4610967622913015,
         "type": "scattermapbox"
        },
        {
         "hovertext": "Hyde Park - Knightsbridge",
         "lat": [
          "51.50562",
          "51.49808"
         ],
         "line": {
          "color": "red",
          "width": 2
         },
         "lon": [
          "-0.16149",
          "-0.16788"
         ],
         "mode": "lines",
         "name": "Hyde Park - Knightsbridge",
         "opacity": 0.456407772960674,
         "type": "scattermapbox"
        },
        {
         "hovertext": "Marylebone - St.John's Wood",
         "lat": [
          "51.51948",
          "51.52981"
         ],
         "line": {
          "color": "red",
          "width": 2
         },
         "lon": [
          "-0.15783",
          "-0.17254"
         ],
         "mode": "lines",
         "name": "Marylebone - St.John's Wood",
         "opacity": 0.456346278018633,
         "type": "scattermapbox"
        },
        {
         "hovertext": "Knightsbridge - South Kensington",
         "lat": [
          "51.49808",
          "51.49441"
         ],
         "line": {
          "color": "red",
          "width": 2
         },
         "lon": [
          "-0.16788",
          "-0.17807"
         ],
         "mode": "lines",
         "name": "Knightsbridge - South Kensington",
         "opacity": 0.4545398640961781,
         "type": "scattermapbox"
        },
        {
         "hovertext": "Strand - Westminster",
         "lat": [
          "51.51027",
          "51.49676"
         ],
         "line": {
          "color": "red",
          "width": 2
         },
         "lon": [
          "-0.12048",
          "-0.13301"
         ],
         "mode": "lines",
         "name": "Strand - Westminster",
         "opacity": 0.4404114011622544,
         "type": "scattermapbox"
        },
        {
         "hovertext": "Victoria - Westminster",
         "lat": [
          "51.49382",
          "51.49676"
         ],
         "line": {
          "color": "red",
          "width": 2
         },
         "lon": [
          "-0.14285",
          "-0.13301"
         ],
         "mode": "lines",
         "name": "Victoria - Westminster",
         "opacity": 0.4377748055222458,
         "type": "scattermapbox"
        },
        {
         "hovertext": "Hyde Park - Kensington",
         "lat": [
          "51.50562",
          "51.50034"
         ],
         "line": {
          "color": "red",
          "width": 2
         },
         "lon": [
          "-0.16149",
          "-0.19268"
         ],
         "mode": "lines",
         "name": "Hyde Park - Kensington",
         "opacity": 0.4264635796205762,
         "type": "scattermapbox"
        },
        {
         "hovertext": "Bow - Mile End",
         "lat": [
          "51.5255",
          "51.52326"
         ],
         "line": {
          "color": "red",
          "width": 2
         },
         "lon": [
          "-0.02317",
          "-0.03619"
         ],
         "mode": "lines",
         "name": "Bow - Mile End",
         "opacity": 0.4172162777111582,
         "type": "scattermapbox"
        },
        {
         "hovertext": "Hoxton - Shoreditch",
         "lat": [
          "51.53134",
          "51.52416"
         ],
         "line": {
          "color": "red",
          "width": 2
         },
         "lon": [
          "-0.08565",
          "-0.07619"
         ],
         "mode": "lines",
         "name": "Hoxton - Shoreditch",
         "opacity": 0.4130115610491037,
         "type": "scattermapbox"
        },
        {
         "hovertext": "Camden Town - King's Cross",
         "lat": [
          "51.53821",
          "51.53367"
         ],
         "line": {
          "color": "red",
          "width": 2
         },
         "lon": [
          "-0.14134",
          "-0.12209"
         ],
         "mode": "lines",
         "name": "Camden Town - King's Cross",
         "opacity": 0.4116010208160379,
         "type": "scattermapbox"
        },
        {
         "hovertext": "Bloomsbury - Marylebone",
         "lat": [
          "51.52292",
          "51.51948"
         ],
         "line": {
          "color": "red",
          "width": 2
         },
         "lon": [
          "-0.12635",
          "-0.15783"
         ],
         "mode": "lines",
         "name": "Bloomsbury - Marylebone",
         "opacity": 0.4076422839221474,
         "type": "scattermapbox"
        },
        {
         "hovertext": "Liverpool Street - Shoreditch",
         "lat": [
          "51.51883",
          "51.52416"
         ],
         "line": {
          "color": "red",
          "width": 2
         },
         "lon": [
          "-0.08165",
          "-0.07619"
         ],
         "mode": "lines",
         "name": "Liverpool Street - Shoreditch",
         "opacity": 0.4074039910217384,
         "type": "scattermapbox"
        },
        {
         "hovertext": "Bermondsey - Borough",
         "lat": [
          "51.49718",
          "51.49946"
         ],
         "line": {
          "color": "red",
          "width": 2
         },
         "lon": [
          "-0.073",
          "-0.09326"
         ],
         "mode": "lines",
         "name": "Bermondsey - Borough",
         "opacity": 0.4008355625249823,
         "type": "scattermapbox"
        },
        {
         "hovertext": "Battersea Park - Clapham Junction",
         "lat": [
          "51.47738",
          "51.46406"
         ],
         "line": {
          "color": "red",
          "width": 2
         },
         "lon": [
          "-0.1542",
          "-0.17169"
         ],
         "mode": "lines",
         "name": "Battersea Park - Clapham Junction",
         "opacity": 0.3993519970482428,
         "type": "scattermapbox"
        },
        {
         "hovertext": "Bayswater - Marylebone",
         "lat": [
          "51.515",
          "51.51948"
         ],
         "line": {
          "color": "red",
          "width": 2
         },
         "lon": [
          "-0.18647",
          "-0.15783"
         ],
         "mode": "lines",
         "name": "Bayswater - Marylebone",
         "opacity": 0.3988561940780371,
         "type": "scattermapbox"
        },
        {
         "hovertext": "Borough - Waterloo",
         "lat": [
          "51.49946",
          "51.50095"
         ],
         "line": {
          "color": "red",
          "width": 2
         },
         "lon": [
          "-0.09326",
          "-0.11342"
         ],
         "mode": "lines",
         "name": "Borough - Waterloo",
         "opacity": 0.3933062755588353,
         "type": "scattermapbox"
        },
        {
         "hovertext": "Stockwell - Vauxhall",
         "lat": [
          "51.4741",
          "51.49028"
         ],
         "line": {
          "color": "red",
          "width": 2
         },
         "lon": [
          "-0.11947",
          "-0.1185"
         ],
         "mode": "lines",
         "name": "Stockwell - Vauxhall",
         "opacity": 0.391599790917197,
         "type": "scattermapbox"
        },
        {
         "hovertext": "Liverpool Street - Waterloo",
         "lat": [
          "51.51883",
          "51.50095"
         ],
         "line": {
          "color": "red",
          "width": 2
         },
         "lon": [
          "-0.08165",
          "-0.11342"
         ],
         "mode": "lines",
         "name": "Liverpool Street - Waterloo",
         "opacity": 0.3812494234849183,
         "type": "scattermapbox"
        },
        {
         "hovertext": "Camden Town - Marylebone",
         "lat": [
          "51.53821",
          "51.51948"
         ],
         "line": {
          "color": "red",
          "width": 2
         },
         "lon": [
          "-0.14134",
          "-0.15783"
         ],
         "mode": "lines",
         "name": "Camden Town - Marylebone",
         "opacity": 0.3769140300710266,
         "type": "scattermapbox"
        },
        {
         "hovertext": "Hoxton - St. Luke's",
         "lat": [
          "51.53134",
          "51.52613"
         ],
         "line": {
          "color": "red",
          "width": 2
         },
         "lon": [
          "-0.08565",
          "-0.0929"
         ],
         "mode": "lines",
         "name": "Hoxton - St. Luke's",
         "opacity": 0.3736740153122406,
         "type": "scattermapbox"
        },
        {
         "hovertext": "Bethnal Green - Stepney",
         "lat": [
          "51.52744",
          "51.51704"
         ],
         "line": {
          "color": "red",
          "width": 2
         },
         "lon": [
          "-0.05739",
          "-0.04924"
         ],
         "mode": "lines",
         "name": "Bethnal Green - Stepney",
         "opacity": 0.3710143590689665,
         "type": "scattermapbox"
        },
        {
         "hovertext": "Angel - Hoxton",
         "lat": [
          "51.53324",
          "51.53134"
         ],
         "line": {
          "color": "red",
          "width": 2
         },
         "lon": [
          "-0.10652",
          "-0.08565"
         ],
         "mode": "lines",
         "name": "Angel - Hoxton",
         "opacity": 0.3704685914583525,
         "type": "scattermapbox"
        },
        {
         "hovertext": "Bloomsbury - Camden Town",
         "lat": [
          "51.52292",
          "51.53821"
         ],
         "line": {
          "color": "red",
          "width": 2
         },
         "lon": [
          "-0.12635",
          "-0.14134"
         ],
         "mode": "lines",
         "name": "Bloomsbury - Camden Town",
         "opacity": 0.3703494450081481,
         "type": "scattermapbox"
        },
        {
         "hovertext": "Hyde Park - Strand",
         "lat": [
          "51.50562",
          "51.51027"
         ],
         "line": {
          "color": "red",
          "width": 2
         },
         "lon": [
          "-0.16149",
          "-0.12048"
         ],
         "mode": "lines",
         "name": "Hyde Park - Strand",
         "opacity": 0.3656028041693571,
         "type": "scattermapbox"
        },
        {
         "hovertext": "Battersea Park - Chelsea",
         "lat": [
          "51.47738",
          "51.48862"
         ],
         "line": {
          "color": "red",
          "width": 2
         },
         "lon": [
          "-0.1542",
          "-0.16723"
         ],
         "mode": "lines",
         "name": "Battersea Park - Chelsea",
         "opacity": 0.3622013651877133,
         "type": "scattermapbox"
        },
        {
         "hovertext": "Kensington - Knightsbridge",
         "lat": [
          "51.50034",
          "51.49808"
         ],
         "line": {
          "color": "red",
          "width": 2
         },
         "lon": [
          "-0.19268",
          "-0.16788"
         ],
         "mode": "lines",
         "name": "Kensington - Knightsbridge",
         "opacity": 0.3617363096885281,
         "type": "scattermapbox"
        },
        {
         "hovertext": "Stepney - Whitechapel",
         "lat": [
          "51.51704",
          "51.51808"
         ],
         "line": {
          "color": "red",
          "width": 2
         },
         "lon": [
          "-0.04924",
          "-0.06597"
         ],
         "mode": "lines",
         "name": "Stepney - Whitechapel",
         "opacity": 0.358523198966885,
         "type": "scattermapbox"
        },
        {
         "hovertext": "Knightsbridge - Mayfair",
         "lat": [
          "51.49808",
          "51.50988"
         ],
         "line": {
          "color": "red",
          "width": 2
         },
         "lon": [
          "-0.16788",
          "-0.1479"
         ],
         "mode": "lines",
         "name": "Knightsbridge - Mayfair",
         "opacity": 0.3539302954831965,
         "type": "scattermapbox"
        },
        {
         "hovertext": "Bayswater - Hyde Park",
         "lat": [
          "51.515",
          "51.50562"
         ],
         "line": {
          "color": "red",
          "width": 2
         },
         "lon": [
          "-0.18647",
          "-0.16149"
         ],
         "mode": "lines",
         "name": "Bayswater - Hyde Park",
         "opacity": 0.353899548012176,
         "type": "scattermapbox"
        },
        {
         "hovertext": "Marylebone - Soho",
         "lat": [
          "51.51948",
          "51.5134"
         ],
         "line": {
          "color": "red",
          "width": 2
         },
         "lon": [
          "-0.15783",
          "-0.13325"
         ],
         "mode": "lines",
         "name": "Marylebone - Soho",
         "opacity": 0.3519586139040064,
         "type": "scattermapbox"
        },
        {
         "hovertext": "Haggerston - Shoreditch",
         "lat": [
          "51.53581",
          "51.52416"
         ],
         "line": {
          "color": "red",
          "width": 2
         },
         "lon": [
          "-0.07083",
          "-0.07619"
         ],
         "mode": "lines",
         "name": "Haggerston - Shoreditch",
         "opacity": 0.3501252959444085,
         "type": "scattermapbox"
        },
        {
         "hovertext": "Hoxton - Liverpool Street",
         "lat": [
          "51.53134",
          "51.51883"
         ],
         "line": {
          "color": "red",
          "width": 2
         },
         "lon": [
          "-0.08565",
          "-0.08165"
         ],
         "mode": "lines",
         "name": "Hoxton - Liverpool Street",
         "opacity": 0.3500445838329797,
         "type": "scattermapbox"
        },
        {
         "hovertext": "King's Cross - Marylebone",
         "lat": [
          "51.53367",
          "51.51948"
         ],
         "line": {
          "color": "red",
          "width": 2
         },
         "lon": [
          "-0.12209",
          "-0.15783"
         ],
         "mode": "lines",
         "name": "King's Cross - Marylebone",
         "opacity": 0.3474771700027673,
         "type": "scattermapbox"
        },
        {
         "hovertext": "Earl's Court - Kensington",
         "lat": [
          "51.49213",
          "51.50034"
         ],
         "line": {
          "color": "red",
          "width": 2
         },
         "lon": [
          "-0.19276",
          "-0.19268"
         ],
         "mode": "lines",
         "name": "Earl's Court - Kensington",
         "opacity": 0.3469044983550103,
         "type": "scattermapbox"
        },
        {
         "hovertext": "Mile End - Stepney",
         "lat": [
          "51.52326",
          "51.51704"
         ],
         "line": {
          "color": "red",
          "width": 2
         },
         "lon": [
          "-0.03619",
          "-0.04924"
         ],
         "mode": "lines",
         "name": "Mile End - Stepney",
         "opacity": 0.3448713218337791,
         "type": "scattermapbox"
        },
        {
         "hovertext": "Fulham - Parson's Green",
         "lat": [
          "51.47634",
          "51.47204"
         ],
         "line": {
          "color": "red",
          "width": 2
         },
         "lon": [
          "-0.21127",
          "-0.20051"
         ],
         "mode": "lines",
         "name": "Fulham - Parson's Green",
         "opacity": 0.3431264028533653,
         "type": "scattermapbox"
        },
        {
         "hovertext": "Chelsea - South Kensington",
         "lat": [
          "51.48862",
          "51.49441"
         ],
         "line": {
          "color": "red",
          "width": 2
         },
         "lon": [
          "-0.16723",
          "-0.17807"
         ],
         "mode": "lines",
         "name": "Chelsea - South Kensington",
         "opacity": 0.3417658272607078,
         "type": "scattermapbox"
        },
        {
         "hovertext": "Knightsbridge - Marylebone",
         "lat": [
          "51.49808",
          "51.51948"
         ],
         "line": {
          "color": "red",
          "width": 2
         },
         "lon": [
          "-0.16788",
          "-0.15783"
         ],
         "mode": "lines",
         "name": "Knightsbridge - Marylebone",
         "opacity": 0.3353357623835439,
         "type": "scattermapbox"
        },
        {
         "hovertext": "Hyde Park - South Kensington",
         "lat": [
          "51.50562",
          "51.49441"
         ],
         "line": {
          "color": "red",
          "width": 2
         },
         "lon": [
          "-0.16149",
          "-0.17807"
         ],
         "mode": "lines",
         "name": "Hyde Park - South Kensington",
         "opacity": 0.3350628785782369,
         "type": "scattermapbox"
        },
        {
         "hovertext": "Sands End - Walham Green",
         "lat": [
          "51.47049",
          "51.47731"
         ],
         "line": {
          "color": "red",
          "width": 2
         },
         "lon": [
          "-0.18915",
          "-0.19283"
         ],
         "mode": "lines",
         "name": "Sands End - Walham Green",
         "opacity": 0.3318536112904713,
         "type": "scattermapbox"
        },
        {
         "hovertext": "Earl's Court - South Kensington",
         "lat": [
          "51.49213",
          "51.49441"
         ],
         "line": {
          "color": "red",
          "width": 2
         },
         "lon": [
          "-0.19276",
          "-0.17807"
         ],
         "mode": "lines",
         "name": "Earl's Court - South Kensington",
         "opacity": 0.3290901823325031,
         "type": "scattermapbox"
        },
        {
         "hovertext": "Bank - Waterloo",
         "lat": [
          "51.5128",
          "51.50095"
         ],
         "line": {
          "color": "red",
          "width": 2
         },
         "lon": [
          "-0.09163",
          "-0.11342"
         ],
         "mode": "lines",
         "name": "Bank - Waterloo",
         "opacity": 0.3286328137010731,
         "type": "scattermapbox"
        },
        {
         "hovertext": "Camden Town - The Regent's Park",
         "lat": [
          "51.53821",
          "51.53038"
         ],
         "line": {
          "color": "red",
          "width": 2
         },
         "lon": [
          "-0.14134",
          "-0.15448"
         ],
         "mode": "lines",
         "name": "Camden Town - The Regent's Park",
         "opacity": 0.3221450973157458,
         "type": "scattermapbox"
        },
        {
         "hovertext": "Angel - King's Cross",
         "lat": [
          "51.53324",
          "51.53367"
         ],
         "line": {
          "color": "red",
          "width": 2
         },
         "lon": [
          "-0.10652",
          "-0.12209"
         ],
         "mode": "lines",
         "name": "Angel - King's Cross",
         "opacity": 0.3221450973157458,
         "type": "scattermapbox"
        },
        {
         "hovertext": "Holborn - Marylebone",
         "lat": [
          "51.51776",
          "51.51948"
         ],
         "line": {
          "color": "red",
          "width": 2
         },
         "lon": [
          "-0.11324",
          "-0.15783"
         ],
         "mode": "lines",
         "name": "Holborn - Marylebone",
         "opacity": 0.3196737693324724,
         "type": "scattermapbox"
        },
        {
         "hovertext": "Bethnal Green - Whitechapel",
         "lat": [
          "51.52744",
          "51.51808"
         ],
         "line": {
          "color": "red",
          "width": 2
         },
         "lon": [
          "-0.05739",
          "-0.06597"
         ],
         "mode": "lines",
         "name": "Bethnal Green - Whitechapel",
         "opacity": 0.3193201734157365,
         "type": "scattermapbox"
        },
        {
         "hovertext": "St. Paul's - Waterloo",
         "lat": [
          "51.51356",
          "51.50095"
         ],
         "line": {
          "color": "red",
          "width": 2
         },
         "lon": [
          "-0.0994",
          "-0.11342"
         ],
         "mode": "lines",
         "name": "St. Paul's - Waterloo",
         "opacity": 0.3173215877994035,
         "type": "scattermapbox"
        },
        {
         "hovertext": "Shoreditch - Whitechapel",
         "lat": [
          "51.52416",
          "51.51808"
         ],
         "line": {
          "color": "red",
          "width": 2
         },
         "lon": [
          "-0.07619",
          "-0.06597"
         ],
         "mode": "lines",
         "name": "Shoreditch - Whitechapel",
         "opacity": 0.3162877040863389,
         "type": "scattermapbox"
        },
        {
         "hovertext": "Waterloo - Westminster",
         "lat": [
          "51.50095",
          "51.49676"
         ],
         "line": {
          "color": "red",
          "width": 2
         },
         "lon": [
          "-0.11342",
          "-0.13301"
         ],
         "mode": "lines",
         "name": "Waterloo - Westminster",
         "opacity": 0.3143736740153122,
         "type": "scattermapbox"
        },
        {
         "hovertext": "Euston - Marylebone",
         "lat": [
          "51.5261",
          "51.51948"
         ],
         "line": {
          "color": "red",
          "width": 2
         },
         "lon": [
          "-0.13489",
          "-0.15783"
         ],
         "mode": "lines",
         "name": "Euston - Marylebone",
         "opacity": 0.3085470282569258,
         "type": "scattermapbox"
        },
        {
         "hovertext": "Clapham Junction - Wandsworth",
         "lat": [
          "51.46406",
          "51.45998"
         ],
         "line": {
          "color": "red",
          "width": 2
         },
         "lon": [
          "-0.17169",
          "-0.19446"
         ],
         "mode": "lines",
         "name": "Clapham Junction - Wandsworth",
         "opacity": 0.3070634627801863,
         "type": "scattermapbox"
        },
        {
         "hovertext": "Battersea Park - Pimlico",
         "lat": [
          "51.47738",
          "51.48891"
         ],
         "line": {
          "color": "red",
          "width": 2
         },
         "lon": [
          "-0.1542",
          "-0.13785"
         ],
         "mode": "lines",
         "name": "Battersea Park - Pimlico",
         "opacity": 0.3014097715462903,
         "type": "scattermapbox"
        },
        {
         "hovertext": "South Kensington - West Chelsea",
         "lat": [
          "51.49441",
          "51.48226"
         ],
         "line": {
          "color": "red",
          "width": 2
         },
         "lon": [
          "-0.17807",
          "-0.17975"
         ],
         "mode": "lines",
         "name": "South Kensington - West Chelsea",
         "opacity": 0.3002375242136334,
         "type": "scattermapbox"
        },
        {
         "hovertext": "Holborn - Liverpool Street",
         "lat": [
          "51.51776",
          "51.51883"
         ],
         "line": {
          "color": "red",
          "width": 2
         },
         "lon": [
          "-0.11324",
          "-0.08165"
         ],
         "mode": "lines",
         "name": "Holborn - Liverpool Street",
         "opacity": 0.2988961657903637,
         "type": "scattermapbox"
        },
        {
         "hovertext": "Chelsea - West Chelsea",
         "lat": [
          "51.48862",
          "51.48226"
         ],
         "line": {
          "color": "red",
          "width": 2
         },
         "lon": [
          "-0.16723",
          "-0.17975"
         ],
         "mode": "lines",
         "name": "Chelsea - West Chelsea",
         "opacity": 0.2979045598499523,
         "type": "scattermapbox"
        },
        {
         "hovertext": "Chelsea - Knightsbridge",
         "lat": [
          "51.48862",
          "51.49808"
         ],
         "line": {
          "color": "red",
          "width": 2
         },
         "lon": [
          "-0.16723",
          "-0.16788"
         ],
         "mode": "lines",
         "name": "Chelsea - Knightsbridge",
         "opacity": 0.2931271715401408,
         "type": "scattermapbox"
        },
        {
         "hovertext": "Clerkenwell - Holborn",
         "lat": [
          "51.5262",
          "51.51776"
         ],
         "line": {
          "color": "red",
          "width": 2
         },
         "lon": [
          "-0.10962",
          "-0.11324"
         ],
         "mode": "lines",
         "name": "Clerkenwell - Holborn",
         "opacity": 0.2916666666666667,
         "type": "scattermapbox"
        },
        {
         "hovertext": "Battersea - Chelsea",
         "lat": [
          "51.47151",
          "51.48862"
         ],
         "line": {
          "color": "red",
          "width": 2
         },
         "lon": [
          "-0.16366",
          "-0.16723"
         ],
         "mode": "lines",
         "name": "Battersea - Chelsea",
         "opacity": 0.2898026012360483,
         "type": "scattermapbox"
        },
        {
         "hovertext": "Strand - Waterloo",
         "lat": [
          "51.51027",
          "51.50095"
         ],
         "line": {
          "color": "red",
          "width": 2
         },
         "lon": [
          "-0.12048",
          "-0.11342"
         ],
         "mode": "lines",
         "name": "Strand - Waterloo",
         "opacity": 0.287850136826246,
         "type": "scattermapbox"
        },
        {
         "hovertext": "Kennington - Vauxhall",
         "lat": [
          "51.48872",
          "51.49028"
         ],
         "line": {
          "color": "red",
          "width": 2
         },
         "lon": [
          "-0.10729",
          "-0.1185"
         ],
         "mode": "lines",
         "name": "Kennington - Vauxhall",
         "opacity": 0.2858822986809335,
         "type": "scattermapbox"
        },
        {
         "hovertext": "Borough - South Bank",
         "lat": [
          "51.49946",
          "51.50561"
         ],
         "line": {
          "color": "red",
          "width": 2
         },
         "lon": [
          "-0.09326",
          "-0.1129"
         ],
         "mode": "lines",
         "name": "Borough - South Bank",
         "opacity": 0.2828690465209236,
         "type": "scattermapbox"
        },
        {
         "hovertext": "Nine Elms - Vauxhall",
         "lat": [
          "51.48107",
          "51.49028"
         ],
         "line": {
          "color": "red",
          "width": 2
         },
         "lon": [
          "-0.1387",
          "-0.1185"
         ],
         "mode": "lines",
         "name": "Nine Elms - Vauxhall",
         "opacity": 0.2790602035482581,
         "type": "scattermapbox"
        },
        {
         "hovertext": "Bethnal Green - Mile End",
         "lat": [
          "51.52744",
          "51.52326"
         ],
         "line": {
          "color": "red",
          "width": 2
         },
         "lon": [
          "-0.05739",
          "-0.03619"
         ],
         "mode": "lines",
         "name": "Bethnal Green - Mile End",
         "opacity": 0.2788872490237678,
         "type": "scattermapbox"
        },
        {
         "hovertext": "Bloomsbury - Clerkenwell",
         "lat": [
          "51.52292",
          "51.5262"
         ],
         "line": {
          "color": "red",
          "width": 2
         },
         "lon": [
          "-0.12635",
          "-0.10962"
         ],
         "mode": "lines",
         "name": "Bloomsbury - Clerkenwell",
         "opacity": 0.2744096485564062,
         "type": "scattermapbox"
        },
        {
         "hovertext": "Bankside - Waterloo",
         "lat": [
          "51.50618",
          "51.50095"
         ],
         "line": {
          "color": "red",
          "width": 2
         },
         "lon": [
          "-0.09824",
          "-0.11342"
         ],
         "mode": "lines",
         "name": "Bankside - Waterloo",
         "opacity": 0.2731067244719122,
         "type": "scattermapbox"
        },
        {
         "hovertext": "Bayswater - Mayfair",
         "lat": [
          "51.515",
          "51.50988"
         ],
         "line": {
          "color": "red",
          "width": 2
         },
         "lon": [
          "-0.18647",
          "-0.1479"
         ],
         "mode": "lines",
         "name": "Bayswater - Mayfair",
         "opacity": 0.2727262245180334,
         "type": "scattermapbox"
        },
        {
         "hovertext": "Pimlico - Vauxhall",
         "lat": [
          "51.48891",
          "51.49028"
         ],
         "line": {
          "color": "red",
          "width": 2
         },
         "lon": [
          "-0.13785",
          "-0.1185"
         ],
         "mode": "lines",
         "name": "Pimlico - Vauxhall",
         "opacity": 0.2723918457706853,
         "type": "scattermapbox"
        },
        {
         "hovertext": "Fulham - Walham Green",
         "lat": [
          "51.47634",
          "51.47731"
         ],
         "line": {
          "color": "red",
          "width": 2
         },
         "lon": [
          "-0.21127",
          "-0.19283"
         ],
         "mode": "lines",
         "name": "Fulham - Walham Green",
         "opacity": 0.2656158718445408,
         "type": "scattermapbox"
        },
        {
         "hovertext": "Vauxhall - Victoria",
         "lat": [
          "51.49028",
          "51.49382"
         ],
         "line": {
          "color": "red",
          "width": 2
         },
         "lon": [
          "-0.1185",
          "-0.14285"
         ],
         "mode": "lines",
         "name": "Vauxhall - Victoria",
         "opacity": 0.2648664022384159,
         "type": "scattermapbox"
        },
        {
         "hovertext": "Bankside - Borough",
         "lat": [
          "51.50618",
          "51.49946"
         ],
         "line": {
          "color": "red",
          "width": 2
         },
         "lon": [
          "-0.09824",
          "-0.09326"
         ],
         "mode": "lines",
         "name": "Bankside - Borough",
         "opacity": 0.2637556498478,
         "type": "scattermapbox"
        },
        {
         "hovertext": "Borough - Strand",
         "lat": [
          "51.49946",
          "51.51027"
         ],
         "line": {
          "color": "red",
          "width": 2
         },
         "lon": [
          "-0.09326",
          "-0.12048"
         ],
         "mode": "lines",
         "name": "Borough - Strand",
         "opacity": 0.2619838268302432,
         "type": "scattermapbox"
        },
        {
         "hovertext": "Marylebone - Strand",
         "lat": [
          "51.51948",
          "51.51027"
         ],
         "line": {
          "color": "red",
          "width": 2
         },
         "lon": [
          "-0.15783",
          "-0.12048"
         ],
         "mode": "lines",
         "name": "Marylebone - Strand",
         "opacity": 0.2615879531408541,
         "type": "scattermapbox"
        },
        {
         "hovertext": "Parson's Green - Sands End",
         "lat": [
          "51.47204",
          "51.47049"
         ],
         "line": {
          "color": "red",
          "width": 2
         },
         "lon": [
          "-0.20051",
          "-0.18915"
         ],
         "mode": "lines",
         "name": "Parson's Green - Sands End",
         "opacity": 0.2614995541616702,
         "type": "scattermapbox"
        },
        {
         "hovertext": "Marylebone - Westminster",
         "lat": [
          "51.51948",
          "51.49676"
         ],
         "line": {
          "color": "red",
          "width": 2
         },
         "lon": [
          "-0.15783",
          "-0.13301"
         ],
         "mode": "lines",
         "name": "Marylebone - Westminster",
         "opacity": 0.2613265996371798,
         "type": "scattermapbox"
        },
        {
         "hovertext": "Bethnal Green - Haggerston",
         "lat": [
          "51.52744",
          "51.53581"
         ],
         "line": {
          "color": "red",
          "width": 2
         },
         "lon": [
          "-0.05739",
          "-0.07083"
         ],
         "mode": "lines",
         "name": "Bethnal Green - Haggerston",
         "opacity": 0.2602427512837069,
         "type": "scattermapbox"
        },
        {
         "hovertext": "Canary Wharf - Cubitt Town",
         "lat": [
          "51.50414",
          "51.49292"
         ],
         "line": {
          "color": "red",
          "width": 2
         },
         "lon": [
          "-0.0204",
          "-0.01048"
         ],
         "mode": "lines",
         "name": "Canary Wharf - Cubitt Town",
         "opacity": 0.2563262921624696,
         "type": "scattermapbox"
        },
        {
         "hovertext": "Kensington - Mayfair",
         "lat": [
          "51.50034",
          "51.50988"
         ],
         "line": {
          "color": "red",
          "width": 2
         },
         "lon": [
          "-0.19268",
          "-0.1479"
         ],
         "mode": "lines",
         "name": "Kensington - Mayfair",
         "opacity": 0.2537242874273591,
         "type": "scattermapbox"
        },
        {
         "hovertext": "Haggerston - Hoxton",
         "lat": [
          "51.53581",
          "51.53134"
         ],
         "line": {
          "color": "red",
          "width": 2
         },
         "lon": [
          "-0.07083",
          "-0.08565"
         ],
         "mode": "lines",
         "name": "Haggerston - Hoxton",
         "opacity": 0.2522599391200074,
         "type": "scattermapbox"
        }
       ],
       "layout": {
        "height": 700,
        "legend": {
         "tracegroupgap": 0
        },
        "mapbox": {
         "accesstoken": "pk.eyJ1Ijoiam1oYmF1ZGluNzUiLCJhIjoiY2xkYWY0aTh4MGYzaTN2bnB6NTVqcXlqeCJ9.k7_gsD6_d6aeh9EhU_0Nvw",
         "center": {
          "lat": 51.509865,
          "lon": -0.118092
         },
         "domain": {
          "x": [
           0,
           1
          ],
          "y": [
           0,
           1
          ]
         },
         "zoom": 11
        },
        "margin": {
         "t": 60
        },
        "template": {
         "data": {
          "bar": [
           {
            "error_x": {
             "color": "#2a3f5f"
            },
            "error_y": {
             "color": "#2a3f5f"
            },
            "marker": {
             "line": {
              "color": "#E5ECF6",
              "width": 0.5
             },
             "pattern": {
              "fillmode": "overlay",
              "size": 10,
              "solidity": 0.2
             }
            },
            "type": "bar"
           }
          ],
          "barpolar": [
           {
            "marker": {
             "line": {
              "color": "#E5ECF6",
              "width": 0.5
             },
             "pattern": {
              "fillmode": "overlay",
              "size": 10,
              "solidity": 0.2
             }
            },
            "type": "barpolar"
           }
          ],
          "carpet": [
           {
            "aaxis": {
             "endlinecolor": "#2a3f5f",
             "gridcolor": "white",
             "linecolor": "white",
             "minorgridcolor": "white",
             "startlinecolor": "#2a3f5f"
            },
            "baxis": {
             "endlinecolor": "#2a3f5f",
             "gridcolor": "white",
             "linecolor": "white",
             "minorgridcolor": "white",
             "startlinecolor": "#2a3f5f"
            },
            "type": "carpet"
           }
          ],
          "choropleth": [
           {
            "colorbar": {
             "outlinewidth": 0,
             "ticks": ""
            },
            "type": "choropleth"
           }
          ],
          "contour": [
           {
            "colorbar": {
             "outlinewidth": 0,
             "ticks": ""
            },
            "colorscale": [
             [
              0,
              "#0d0887"
             ],
             [
              0.1111111111111111,
              "#46039f"
             ],
             [
              0.2222222222222222,
              "#7201a8"
             ],
             [
              0.3333333333333333,
              "#9c179e"
             ],
             [
              0.4444444444444444,
              "#bd3786"
             ],
             [
              0.5555555555555556,
              "#d8576b"
             ],
             [
              0.6666666666666666,
              "#ed7953"
             ],
             [
              0.7777777777777778,
              "#fb9f3a"
             ],
             [
              0.8888888888888888,
              "#fdca26"
             ],
             [
              1,
              "#f0f921"
             ]
            ],
            "type": "contour"
           }
          ],
          "contourcarpet": [
           {
            "colorbar": {
             "outlinewidth": 0,
             "ticks": ""
            },
            "type": "contourcarpet"
           }
          ],
          "heatmap": [
           {
            "colorbar": {
             "outlinewidth": 0,
             "ticks": ""
            },
            "colorscale": [
             [
              0,
              "#0d0887"
             ],
             [
              0.1111111111111111,
              "#46039f"
             ],
             [
              0.2222222222222222,
              "#7201a8"
             ],
             [
              0.3333333333333333,
              "#9c179e"
             ],
             [
              0.4444444444444444,
              "#bd3786"
             ],
             [
              0.5555555555555556,
              "#d8576b"
             ],
             [
              0.6666666666666666,
              "#ed7953"
             ],
             [
              0.7777777777777778,
              "#fb9f3a"
             ],
             [
              0.8888888888888888,
              "#fdca26"
             ],
             [
              1,
              "#f0f921"
             ]
            ],
            "type": "heatmap"
           }
          ],
          "heatmapgl": [
           {
            "colorbar": {
             "outlinewidth": 0,
             "ticks": ""
            },
            "colorscale": [
             [
              0,
              "#0d0887"
             ],
             [
              0.1111111111111111,
              "#46039f"
             ],
             [
              0.2222222222222222,
              "#7201a8"
             ],
             [
              0.3333333333333333,
              "#9c179e"
             ],
             [
              0.4444444444444444,
              "#bd3786"
             ],
             [
              0.5555555555555556,
              "#d8576b"
             ],
             [
              0.6666666666666666,
              "#ed7953"
             ],
             [
              0.7777777777777778,
              "#fb9f3a"
             ],
             [
              0.8888888888888888,
              "#fdca26"
             ],
             [
              1,
              "#f0f921"
             ]
            ],
            "type": "heatmapgl"
           }
          ],
          "histogram": [
           {
            "marker": {
             "pattern": {
              "fillmode": "overlay",
              "size": 10,
              "solidity": 0.2
             }
            },
            "type": "histogram"
           }
          ],
          "histogram2d": [
           {
            "colorbar": {
             "outlinewidth": 0,
             "ticks": ""
            },
            "colorscale": [
             [
              0,
              "#0d0887"
             ],
             [
              0.1111111111111111,
              "#46039f"
             ],
             [
              0.2222222222222222,
              "#7201a8"
             ],
             [
              0.3333333333333333,
              "#9c179e"
             ],
             [
              0.4444444444444444,
              "#bd3786"
             ],
             [
              0.5555555555555556,
              "#d8576b"
             ],
             [
              0.6666666666666666,
              "#ed7953"
             ],
             [
              0.7777777777777778,
              "#fb9f3a"
             ],
             [
              0.8888888888888888,
              "#fdca26"
             ],
             [
              1,
              "#f0f921"
             ]
            ],
            "type": "histogram2d"
           }
          ],
          "histogram2dcontour": [
           {
            "colorbar": {
             "outlinewidth": 0,
             "ticks": ""
            },
            "colorscale": [
             [
              0,
              "#0d0887"
             ],
             [
              0.1111111111111111,
              "#46039f"
             ],
             [
              0.2222222222222222,
              "#7201a8"
             ],
             [
              0.3333333333333333,
              "#9c179e"
             ],
             [
              0.4444444444444444,
              "#bd3786"
             ],
             [
              0.5555555555555556,
              "#d8576b"
             ],
             [
              0.6666666666666666,
              "#ed7953"
             ],
             [
              0.7777777777777778,
              "#fb9f3a"
             ],
             [
              0.8888888888888888,
              "#fdca26"
             ],
             [
              1,
              "#f0f921"
             ]
            ],
            "type": "histogram2dcontour"
           }
          ],
          "mesh3d": [
           {
            "colorbar": {
             "outlinewidth": 0,
             "ticks": ""
            },
            "type": "mesh3d"
           }
          ],
          "parcoords": [
           {
            "line": {
             "colorbar": {
              "outlinewidth": 0,
              "ticks": ""
             }
            },
            "type": "parcoords"
           }
          ],
          "pie": [
           {
            "automargin": true,
            "type": "pie"
           }
          ],
          "scatter": [
           {
            "fillpattern": {
             "fillmode": "overlay",
             "size": 10,
             "solidity": 0.2
            },
            "type": "scatter"
           }
          ],
          "scatter3d": [
           {
            "line": {
             "colorbar": {
              "outlinewidth": 0,
              "ticks": ""
             }
            },
            "marker": {
             "colorbar": {
              "outlinewidth": 0,
              "ticks": ""
             }
            },
            "type": "scatter3d"
           }
          ],
          "scattercarpet": [
           {
            "marker": {
             "colorbar": {
              "outlinewidth": 0,
              "ticks": ""
             }
            },
            "type": "scattercarpet"
           }
          ],
          "scattergeo": [
           {
            "marker": {
             "colorbar": {
              "outlinewidth": 0,
              "ticks": ""
             }
            },
            "type": "scattergeo"
           }
          ],
          "scattergl": [
           {
            "marker": {
             "colorbar": {
              "outlinewidth": 0,
              "ticks": ""
             }
            },
            "type": "scattergl"
           }
          ],
          "scattermapbox": [
           {
            "marker": {
             "colorbar": {
              "outlinewidth": 0,
              "ticks": ""
             }
            },
            "type": "scattermapbox"
           }
          ],
          "scatterpolar": [
           {
            "marker": {
             "colorbar": {
              "outlinewidth": 0,
              "ticks": ""
             }
            },
            "type": "scatterpolar"
           }
          ],
          "scatterpolargl": [
           {
            "marker": {
             "colorbar": {
              "outlinewidth": 0,
              "ticks": ""
             }
            },
            "type": "scatterpolargl"
           }
          ],
          "scatterternary": [
           {
            "marker": {
             "colorbar": {
              "outlinewidth": 0,
              "ticks": ""
             }
            },
            "type": "scatterternary"
           }
          ],
          "surface": [
           {
            "colorbar": {
             "outlinewidth": 0,
             "ticks": ""
            },
            "colorscale": [
             [
              0,
              "#0d0887"
             ],
             [
              0.1111111111111111,
              "#46039f"
             ],
             [
              0.2222222222222222,
              "#7201a8"
             ],
             [
              0.3333333333333333,
              "#9c179e"
             ],
             [
              0.4444444444444444,
              "#bd3786"
             ],
             [
              0.5555555555555556,
              "#d8576b"
             ],
             [
              0.6666666666666666,
              "#ed7953"
             ],
             [
              0.7777777777777778,
              "#fb9f3a"
             ],
             [
              0.8888888888888888,
              "#fdca26"
             ],
             [
              1,
              "#f0f921"
             ]
            ],
            "type": "surface"
           }
          ],
          "table": [
           {
            "cells": {
             "fill": {
              "color": "#EBF0F8"
             },
             "line": {
              "color": "white"
             }
            },
            "header": {
             "fill": {
              "color": "#C8D4E3"
             },
             "line": {
              "color": "white"
             }
            },
            "type": "table"
           }
          ]
         },
         "layout": {
          "annotationdefaults": {
           "arrowcolor": "#2a3f5f",
           "arrowhead": 0,
           "arrowwidth": 1
          },
          "autotypenumbers": "strict",
          "coloraxis": {
           "colorbar": {
            "outlinewidth": 0,
            "ticks": ""
           }
          },
          "colorscale": {
           "diverging": [
            [
             0,
             "#8e0152"
            ],
            [
             0.1,
             "#c51b7d"
            ],
            [
             0.2,
             "#de77ae"
            ],
            [
             0.3,
             "#f1b6da"
            ],
            [
             0.4,
             "#fde0ef"
            ],
            [
             0.5,
             "#f7f7f7"
            ],
            [
             0.6,
             "#e6f5d0"
            ],
            [
             0.7,
             "#b8e186"
            ],
            [
             0.8,
             "#7fbc41"
            ],
            [
             0.9,
             "#4d9221"
            ],
            [
             1,
             "#276419"
            ]
           ],
           "sequential": [
            [
             0,
             "#0d0887"
            ],
            [
             0.1111111111111111,
             "#46039f"
            ],
            [
             0.2222222222222222,
             "#7201a8"
            ],
            [
             0.3333333333333333,
             "#9c179e"
            ],
            [
             0.4444444444444444,
             "#bd3786"
            ],
            [
             0.5555555555555556,
             "#d8576b"
            ],
            [
             0.6666666666666666,
             "#ed7953"
            ],
            [
             0.7777777777777778,
             "#fb9f3a"
            ],
            [
             0.8888888888888888,
             "#fdca26"
            ],
            [
             1,
             "#f0f921"
            ]
           ],
           "sequentialminus": [
            [
             0,
             "#0d0887"
            ],
            [
             0.1111111111111111,
             "#46039f"
            ],
            [
             0.2222222222222222,
             "#7201a8"
            ],
            [
             0.3333333333333333,
             "#9c179e"
            ],
            [
             0.4444444444444444,
             "#bd3786"
            ],
            [
             0.5555555555555556,
             "#d8576b"
            ],
            [
             0.6666666666666666,
             "#ed7953"
            ],
            [
             0.7777777777777778,
             "#fb9f3a"
            ],
            [
             0.8888888888888888,
             "#fdca26"
            ],
            [
             1,
             "#f0f921"
            ]
           ]
          },
          "colorway": [
           "#636efa",
           "#EF553B",
           "#00cc96",
           "#ab63fa",
           "#FFA15A",
           "#19d3f3",
           "#FF6692",
           "#B6E880",
           "#FF97FF",
           "#FECB52"
          ],
          "font": {
           "color": "#2a3f5f"
          },
          "geo": {
           "bgcolor": "white",
           "lakecolor": "white",
           "landcolor": "#E5ECF6",
           "showlakes": true,
           "showland": true,
           "subunitcolor": "white"
          },
          "hoverlabel": {
           "align": "left"
          },
          "hovermode": "closest",
          "mapbox": {
           "style": "light"
          },
          "paper_bgcolor": "white",
          "plot_bgcolor": "#E5ECF6",
          "polar": {
           "angularaxis": {
            "gridcolor": "white",
            "linecolor": "white",
            "ticks": ""
           },
           "bgcolor": "#E5ECF6",
           "radialaxis": {
            "gridcolor": "white",
            "linecolor": "white",
            "ticks": ""
           }
          },
          "scene": {
           "xaxis": {
            "backgroundcolor": "#E5ECF6",
            "gridcolor": "white",
            "gridwidth": 2,
            "linecolor": "white",
            "showbackground": true,
            "ticks": "",
            "zerolinecolor": "white"
           },
           "yaxis": {
            "backgroundcolor": "#E5ECF6",
            "gridcolor": "white",
            "gridwidth": 2,
            "linecolor": "white",
            "showbackground": true,
            "ticks": "",
            "zerolinecolor": "white"
           },
           "zaxis": {
            "backgroundcolor": "#E5ECF6",
            "gridcolor": "white",
            "gridwidth": 2,
            "linecolor": "white",
            "showbackground": true,
            "ticks": "",
            "zerolinecolor": "white"
           }
          },
          "shapedefaults": {
           "line": {
            "color": "#2a3f5f"
           }
          },
          "ternary": {
           "aaxis": {
            "gridcolor": "white",
            "linecolor": "white",
            "ticks": ""
           },
           "baxis": {
            "gridcolor": "white",
            "linecolor": "white",
            "ticks": ""
           },
           "bgcolor": "#E5ECF6",
           "caxis": {
            "gridcolor": "white",
            "linecolor": "white",
            "ticks": ""
           }
          },
          "title": {
           "x": 0.05
          },
          "xaxis": {
           "automargin": true,
           "gridcolor": "white",
           "linecolor": "white",
           "ticks": "",
           "title": {
            "standoff": 15
           },
           "zerolinecolor": "white",
           "zerolinewidth": 2
          },
          "yaxis": {
           "automargin": true,
           "gridcolor": "white",
           "linecolor": "white",
           "ticks": "",
           "title": {
            "standoff": 15
           },
           "zerolinecolor": "white",
           "zerolinewidth": 2
          }
         }
        },
        "width": 1500
       }
      },
      "text/html": [
       "<div>                            <div id=\"6520cce9-bc6c-452e-ad95-5d460535f017\" class=\"plotly-graph-div\" style=\"height:700px; width:1500px;\"></div>            <script type=\"text/javascript\">                require([\"plotly\"], function(Plotly) {                    window.PLOTLYENV=window.PLOTLYENV || {};                                    if (document.getElementById(\"6520cce9-bc6c-452e-ad95-5d460535f017\")) {                    Plotly.newPlot(                        \"6520cce9-bc6c-452e-ad95-5d460535f017\",                        [{\"hovertemplate\":\"zone=%{text}<br>avg_lat=%{lat}<br>avg_lon=%{lon}<extra></extra>\",\"lat\":[51.51398,51.53324,51.51154,51.5128,51.50618,51.52011,51.47151,51.47738,51.515,51.49656,51.49718,51.52744,51.5072,51.52292,51.49946,51.5255,51.4635,51.4955,51.53821,51.50414,51.48862,51.46506,51.46137,51.46406,51.5262,51.51554,51.49292,51.53728,51.49213,51.45941,51.49684,51.5261,51.51778,51.52687,51.51986,51.47634,51.51718,51.53829,51.54031,51.53581,51.48948,51.51776,51.50396,51.53134,51.50562,51.46926,51.48872,51.50034,51.506,51.53367,51.49808,51.51095,51.5121,51.51883,51.50423,51.52626,51.51948,51.50988,51.52326,51.49424,51.50981,51.5203,51.48107,51.51904,51.51034,51.53424,51.49797,51.48354,51.51778,51.47204,51.48891,51.51362,51.51844,51.46188,51.54529,51.4988,51.47049,51.50228,51.51053,51.50309,51.52416,51.49313,51.5134,51.52907,51.50561,51.49441,51.50394,51.50703,51.52613,51.51356,51.52981,51.51704,51.4741,51.51027,51.5418,51.5121,51.53038,51.50894,51.49028,51.49382,51.53902,51.47731,51.48986,51.45998,51.45787,51.47301,51.50669,51.50095,51.48486,51.48226,51.50988,51.4876,51.49676,51.51196,51.51808],\"legendgroup\":\"\",\"lon\":[-0.07464,-0.10652,-0.21514,-0.09163,-0.09824,-0.09512,-0.16366,-0.1542,-0.18647,-0.15272,-0.073,-0.05739,-0.0059,-0.12635,-0.09326,-0.02317,-0.11478,-0.21984,-0.14134,-0.0204,-0.16723,-0.14435,-0.14878,-0.17169,-0.10962,-0.12301,-0.01048,-0.0792,-0.19276,-0.20452,-0.10327,-0.13489,-0.1022,-0.10235,-0.13867,-0.21127,-0.09211,-0.05902,-0.02163,-0.07083,-0.22358,-0.11324,-0.21031,-0.08565,-0.16149,-0.14181,-0.10729,-0.19268,-0.18487,-0.12209,-0.16788,-0.20618,-0.03294,-0.08165,-0.08544,-0.18231,-0.15783,-0.1479,-0.03619,-0.02052,-0.08432,-0.08794,-0.1387,-0.21138,-0.19818,-0.03165,-0.2099,-0.11382,-0.17339,-0.20051,-0.13785,-0.01592,-0.2023,-0.2143,-0.01581,-0.0525,-0.18915,-0.07419,-0.05564,-0.21891,-0.07619,-0.15688,-0.13325,-0.13026,-0.1129,-0.17807,-0.10448,-0.1332,-0.0929,-0.0994,-0.17254,-0.04924,-0.11947,-0.12048,-0.00481,-0.10936,-0.15448,-0.07437,-0.1185,-0.14285,-0.03903,-0.19283,-0.09434,-0.19446,-0.17469,-0.13444,-0.06397,-0.11342,-0.18634,-0.17975,-0.13306,-0.20617,-0.13301,-0.22494,-0.06597],\"marker\":{\"color\":\"#636efa\"},\"mode\":\"markers+text\",\"name\":\"\",\"showlegend\":false,\"subplot\":\"mapbox\",\"text\":[\"Aldgate\",\"Angel\",\"Avondale\",\"Bank\",\"Bankside\",\"Barbican\",\"Battersea\",\"Battersea Park\",\"Bayswater\",\"Belgravia\",\"Bermondsey\",\"Bethnal Green\",\"Blackwall\",\"Bloomsbury\",\"Borough\",\"Bow\",\"Brixton\",\"Brook Green\",\"Camden Town\",\"Canary Wharf\",\"Chelsea\",\"Clapham\",\"Clapham Common\",\"Clapham Junction\",\"Clerkenwell\",\"Covent Garden\",\"Cubitt Town\",\"De Beauvoir Town\",\"Earl's Court\",\"East Putney\",\"Elephant & Castle\",\"Euston\",\"Farringdon\",\"Finsbury\",\"Fitzrovia\",\"Fulham\",\"Guildhall\",\"Hackney Central\",\"Hackney Wick\",\"Haggerston\",\"Hammersmith\",\"Holborn\",\"Holland Park\",\"Hoxton\",\"Hyde Park\",\"Isley Court, Wandsworth Road\",\"Kennington\",\"Kensington\",\"Kensington Gardens\",\"King's Cross\",\"Knightsbridge\",\"Ladbroke Grove\",\"Limehouse\",\"Liverpool Street\",\"London Bridge\",\"Maida Vale\",\"Marylebone\",\"Mayfair\",\"Mile End\",\"Millwall\",\"Monument\",\"Moorgate\",\"Nine Elms\",\"North Kensington\",\"Notting Hill\",\"Old Ford\",\"Olympia\",\"Oval\",\"Paddington\",\"Parson's Green\",\"Pimlico\",\"Poplar\",\"Portobello\",\"Putney\",\"Queen Elizabeth Olympic Park\",\"Rotherhithe\",\"Sands End\",\"Shad Thames\",\"Shadwell\",\"Shepherd's Bush\",\"Shoreditch\",\"Sloane Square\",\"Soho\",\"Somers Town\",\"South Bank\",\"South Kensington\",\"Southwark\",\"St. James's\",\"St. Luke's\",\"St. Paul's\",\"St.John's Wood\",\"Stepney\",\"Stockwell\",\"Strand\",\"Stratford\",\"Temple\",\"The Regent's Park\",\"Tower\",\"Vauxhall\",\"Victoria\",\"Victoria Park\",\"Walham Green\",\"Walworth\",\"Wandsworth\",\"Wandsworth Common\",\"Wandsworth Road\",\"Wapping\",\"Waterloo\",\"West Brompton\",\"West Chelsea\",\"West End\",\"West Kensington\",\"Westminster\",\"White City\",\"Whitechapel\"],\"type\":\"scattermapbox\"},{\"hovertext\":\"Hyde Park - Kensington Gardens\",\"lat\":[\"51.50562\",\"51.506\"],\"line\":{\"color\":\"red\",\"width\":2},\"lon\":[\"-0.16149\",\"-0.18487\"],\"mode\":\"lines\",\"name\":\"Hyde Park - Kensington Gardens\",\"opacity\":1.0,\"type\":\"scattermapbox\"},{\"hovertext\":\"Bethnal Green - Shoreditch\",\"lat\":[\"51.52744\",\"51.52416\"],\"line\":{\"color\":\"red\",\"width\":2},\"lon\":[\"-0.05739\",\"-0.07619\"],\"mode\":\"lines\",\"name\":\"Bethnal Green - Shoreditch\",\"opacity\":0.6612243642960366,\"type\":\"scattermapbox\"},{\"hovertext\":\"Holborn - Waterloo\",\"lat\":[\"51.51776\",\"51.50095\"],\"line\":{\"color\":\"red\",\"width\":2},\"lon\":[\"-0.11324\",\"-0.11342\"],\"mode\":\"lines\",\"name\":\"Holborn - Waterloo\",\"opacity\":0.6357078067828921,\"type\":\"scattermapbox\"},{\"hovertext\":\"Hyde Park - Mayfair\",\"lat\":[\"51.50562\",\"51.50988\"],\"line\":{\"color\":\"red\",\"width\":2},\"lon\":[\"-0.16149\",\"-0.1479\"],\"mode\":\"lines\",\"name\":\"Hyde Park - Mayfair\",\"opacity\":0.6026465885680902,\"type\":\"scattermapbox\"},{\"hovertext\":\"Battersea - Clapham Junction\",\"lat\":[\"51.47151\",\"51.46406\"],\"line\":{\"color\":\"red\",\"width\":2},\"lon\":[\"-0.16366\",\"-0.17169\"],\"mode\":\"lines\",\"name\":\"Battersea - Clapham Junction\",\"opacity\":0.6023737047627832,\"type\":\"scattermapbox\"},{\"hovertext\":\"Holborn - King's Cross\",\"lat\":[\"51.51776\",\"51.53367\"],\"line\":{\"color\":\"red\",\"width\":2},\"lon\":[\"-0.11324\",\"-0.12209\"],\"mode\":\"lines\",\"name\":\"Holborn - King's Cross\",\"opacity\":0.5931533068905082,\"type\":\"scattermapbox\"},{\"hovertext\":\"Bloomsbury - King's Cross\",\"lat\":[\"51.52292\",\"51.53367\"],\"line\":{\"color\":\"red\",\"width\":2},\"lon\":[\"-0.12635\",\"-0.12209\"],\"mode\":\"lines\",\"name\":\"Bloomsbury - King's Cross\",\"opacity\":0.5714686529532945,\"type\":\"scattermapbox\"},{\"hovertext\":\"Fulham - Hammersmith\",\"lat\":[\"51.47634\",\"51.48948\"],\"line\":{\"color\":\"red\",\"width\":2},\"lon\":[\"-0.21127\",\"-0.22358\"],\"mode\":\"lines\",\"name\":\"Fulham - Hammersmith\",\"opacity\":0.566445284875319,\"type\":\"scattermapbox\"},{\"hovertext\":\"Marylebone - Paddington\",\"lat\":[\"51.51948\",\"51.51778\"],\"line\":{\"color\":\"red\",\"width\":2},\"lon\":[\"-0.15783\",\"-0.17339\"],\"mode\":\"lines\",\"name\":\"Marylebone - Paddington\",\"opacity\":0.5518363927066998,\"type\":\"scattermapbox\"},{\"hovertext\":\"Marylebone - Mayfair\",\"lat\":[\"51.51948\",\"51.50988\"],\"line\":{\"color\":\"red\",\"width\":2},\"lon\":[\"-0.15783\",\"-0.1479\"],\"mode\":\"lines\",\"name\":\"Marylebone - Mayfair\",\"opacity\":0.5393260154352304,\"type\":\"scattermapbox\"},{\"hovertext\":\"Bloomsbury - Holborn\",\"lat\":[\"51.52292\",\"51.51776\"],\"line\":{\"color\":\"red\",\"width\":2},\"lon\":[\"-0.12635\",\"-0.11324\"],\"mode\":\"lines\",\"name\":\"Bloomsbury - Holborn\",\"opacity\":0.5331611474956184,\"type\":\"scattermapbox\"},{\"hovertext\":\"Hyde Park - Marylebone\",\"lat\":[\"51.50562\",\"51.51948\"],\"line\":{\"color\":\"red\",\"width\":2},\"lon\":[\"-0.16149\",\"-0.15783\"],\"mode\":\"lines\",\"name\":\"Hyde Park - Marylebone\",\"opacity\":0.5251668050302862,\"type\":\"scattermapbox\"},{\"hovertext\":\"Hammersmith - West Kensington\",\"lat\":[\"51.48948\",\"51.4876\"],\"line\":{\"color\":\"red\",\"width\":2},\"lon\":[\"-0.22358\",\"-0.20617\"],\"mode\":\"lines\",\"name\":\"Hammersmith - West Kensington\",\"opacity\":0.520766073240476,\"type\":\"scattermapbox\"},{\"hovertext\":\"Battersea - Battersea Park\",\"lat\":[\"51.47151\",\"51.47738\"],\"line\":{\"color\":\"red\",\"width\":2},\"lon\":[\"-0.16366\",\"-0.1542\"],\"mode\":\"lines\",\"name\":\"Battersea - Battersea Park\",\"opacity\":0.5150547304984164,\"type\":\"scattermapbox\"},{\"hovertext\":\"Pimlico - Westminster\",\"lat\":[\"51.48891\",\"51.49676\"],\"line\":{\"color\":\"red\",\"width\":2},\"lon\":[\"-0.13785\",\"-0.13301\"],\"mode\":\"lines\",\"name\":\"Pimlico - Westminster\",\"opacity\":0.5136634074347385,\"type\":\"scattermapbox\"},{\"hovertext\":\"Vauxhall - Waterloo\",\"lat\":[\"51.49028\",\"51.50095\"],\"line\":{\"color\":\"red\",\"width\":2},\"lon\":[\"-0.1185\",\"-0.11342\"],\"mode\":\"lines\",\"name\":\"Vauxhall - Waterloo\",\"opacity\":0.5089282968975801,\"type\":\"scattermapbox\"},{\"hovertext\":\"Kensington - South Kensington\",\"lat\":[\"51.50034\",\"51.49441\"],\"line\":{\"color\":\"red\",\"width\":2},\"lon\":[\"-0.19268\",\"-0.17807\"],\"mode\":\"lines\",\"name\":\"Kensington - South Kensington\",\"opacity\":0.5075677213049227,\"type\":\"scattermapbox\"},{\"hovertext\":\"Marylebone - The Regent's Park\",\"lat\":[\"51.51948\",\"51.53038\"],\"line\":{\"color\":\"red\",\"width\":2},\"lon\":[\"-0.15783\",\"-0.15448\"],\"mode\":\"lines\",\"name\":\"Marylebone - The Regent's Park\",\"opacity\":0.5065722719306337,\"type\":\"scattermapbox\"},{\"hovertext\":\"Fitzrovia - Marylebone\",\"lat\":[\"51.51986\",\"51.51948\"],\"line\":{\"color\":\"red\",\"width\":2},\"lon\":[\"-0.13867\",\"-0.15783\"],\"mode\":\"lines\",\"name\":\"Fitzrovia - Marylebone\",\"opacity\":0.505415398333487,\"type\":\"scattermapbox\"},{\"hovertext\":\"Hyde Park - Westminster\",\"lat\":[\"51.50562\",\"51.49676\"],\"line\":{\"color\":\"red\",\"width\":2},\"lon\":[\"-0.16149\",\"-0.13301\"],\"mode\":\"lines\",\"name\":\"Hyde Park - Westminster\",\"opacity\":0.4992390000922424,\"type\":\"scattermapbox\"},{\"hovertext\":\"Vauxhall - Westminster\",\"lat\":[\"51.49028\",\"51.49676\"],\"line\":{\"color\":\"red\",\"width\":2},\"lon\":[\"-0.1185\",\"-0.13301\"],\"mode\":\"lines\",\"name\":\"Vauxhall - Westminster\",\"opacity\":0.4901108446330289,\"type\":\"scattermapbox\"},{\"hovertext\":\"Pimlico - Victoria\",\"lat\":[\"51.48891\",\"51.49382\"],\"line\":{\"color\":\"red\",\"width\":2},\"lon\":[\"-0.13785\",\"-0.14285\"],\"mode\":\"lines\",\"name\":\"Pimlico - Victoria\",\"opacity\":0.4890731174860868,\"type\":\"scattermapbox\"},{\"hovertext\":\"Fulham - West Kensington\",\"lat\":[\"51.47634\",\"51.4876\"],\"line\":{\"color\":\"red\",\"width\":2},\"lon\":[\"-0.21127\",\"-0.20617\"],\"mode\":\"lines\",\"name\":\"Fulham - West Kensington\",\"opacity\":0.4610967622913015,\"type\":\"scattermapbox\"},{\"hovertext\":\"Hyde Park - Knightsbridge\",\"lat\":[\"51.50562\",\"51.49808\"],\"line\":{\"color\":\"red\",\"width\":2},\"lon\":[\"-0.16149\",\"-0.16788\"],\"mode\":\"lines\",\"name\":\"Hyde Park - Knightsbridge\",\"opacity\":0.456407772960674,\"type\":\"scattermapbox\"},{\"hovertext\":\"Marylebone - St.John's Wood\",\"lat\":[\"51.51948\",\"51.52981\"],\"line\":{\"color\":\"red\",\"width\":2},\"lon\":[\"-0.15783\",\"-0.17254\"],\"mode\":\"lines\",\"name\":\"Marylebone - St.John's Wood\",\"opacity\":0.456346278018633,\"type\":\"scattermapbox\"},{\"hovertext\":\"Knightsbridge - South Kensington\",\"lat\":[\"51.49808\",\"51.49441\"],\"line\":{\"color\":\"red\",\"width\":2},\"lon\":[\"-0.16788\",\"-0.17807\"],\"mode\":\"lines\",\"name\":\"Knightsbridge - South Kensington\",\"opacity\":0.4545398640961781,\"type\":\"scattermapbox\"},{\"hovertext\":\"Strand - Westminster\",\"lat\":[\"51.51027\",\"51.49676\"],\"line\":{\"color\":\"red\",\"width\":2},\"lon\":[\"-0.12048\",\"-0.13301\"],\"mode\":\"lines\",\"name\":\"Strand - Westminster\",\"opacity\":0.4404114011622544,\"type\":\"scattermapbox\"},{\"hovertext\":\"Victoria - Westminster\",\"lat\":[\"51.49382\",\"51.49676\"],\"line\":{\"color\":\"red\",\"width\":2},\"lon\":[\"-0.14285\",\"-0.13301\"],\"mode\":\"lines\",\"name\":\"Victoria - Westminster\",\"opacity\":0.4377748055222458,\"type\":\"scattermapbox\"},{\"hovertext\":\"Hyde Park - Kensington\",\"lat\":[\"51.50562\",\"51.50034\"],\"line\":{\"color\":\"red\",\"width\":2},\"lon\":[\"-0.16149\",\"-0.19268\"],\"mode\":\"lines\",\"name\":\"Hyde Park - Kensington\",\"opacity\":0.4264635796205762,\"type\":\"scattermapbox\"},{\"hovertext\":\"Bow - Mile End\",\"lat\":[\"51.5255\",\"51.52326\"],\"line\":{\"color\":\"red\",\"width\":2},\"lon\":[\"-0.02317\",\"-0.03619\"],\"mode\":\"lines\",\"name\":\"Bow - Mile End\",\"opacity\":0.4172162777111582,\"type\":\"scattermapbox\"},{\"hovertext\":\"Hoxton - Shoreditch\",\"lat\":[\"51.53134\",\"51.52416\"],\"line\":{\"color\":\"red\",\"width\":2},\"lon\":[\"-0.08565\",\"-0.07619\"],\"mode\":\"lines\",\"name\":\"Hoxton - Shoreditch\",\"opacity\":0.4130115610491037,\"type\":\"scattermapbox\"},{\"hovertext\":\"Camden Town - King's Cross\",\"lat\":[\"51.53821\",\"51.53367\"],\"line\":{\"color\":\"red\",\"width\":2},\"lon\":[\"-0.14134\",\"-0.12209\"],\"mode\":\"lines\",\"name\":\"Camden Town - King's Cross\",\"opacity\":0.4116010208160379,\"type\":\"scattermapbox\"},{\"hovertext\":\"Bloomsbury - Marylebone\",\"lat\":[\"51.52292\",\"51.51948\"],\"line\":{\"color\":\"red\",\"width\":2},\"lon\":[\"-0.12635\",\"-0.15783\"],\"mode\":\"lines\",\"name\":\"Bloomsbury - Marylebone\",\"opacity\":0.4076422839221474,\"type\":\"scattermapbox\"},{\"hovertext\":\"Liverpool Street - Shoreditch\",\"lat\":[\"51.51883\",\"51.52416\"],\"line\":{\"color\":\"red\",\"width\":2},\"lon\":[\"-0.08165\",\"-0.07619\"],\"mode\":\"lines\",\"name\":\"Liverpool Street - Shoreditch\",\"opacity\":0.4074039910217384,\"type\":\"scattermapbox\"},{\"hovertext\":\"Bermondsey - Borough\",\"lat\":[\"51.49718\",\"51.49946\"],\"line\":{\"color\":\"red\",\"width\":2},\"lon\":[\"-0.073\",\"-0.09326\"],\"mode\":\"lines\",\"name\":\"Bermondsey - Borough\",\"opacity\":0.4008355625249823,\"type\":\"scattermapbox\"},{\"hovertext\":\"Battersea Park - Clapham Junction\",\"lat\":[\"51.47738\",\"51.46406\"],\"line\":{\"color\":\"red\",\"width\":2},\"lon\":[\"-0.1542\",\"-0.17169\"],\"mode\":\"lines\",\"name\":\"Battersea Park - Clapham Junction\",\"opacity\":0.3993519970482428,\"type\":\"scattermapbox\"},{\"hovertext\":\"Bayswater - Marylebone\",\"lat\":[\"51.515\",\"51.51948\"],\"line\":{\"color\":\"red\",\"width\":2},\"lon\":[\"-0.18647\",\"-0.15783\"],\"mode\":\"lines\",\"name\":\"Bayswater - Marylebone\",\"opacity\":0.3988561940780371,\"type\":\"scattermapbox\"},{\"hovertext\":\"Borough - Waterloo\",\"lat\":[\"51.49946\",\"51.50095\"],\"line\":{\"color\":\"red\",\"width\":2},\"lon\":[\"-0.09326\",\"-0.11342\"],\"mode\":\"lines\",\"name\":\"Borough - Waterloo\",\"opacity\":0.3933062755588353,\"type\":\"scattermapbox\"},{\"hovertext\":\"Stockwell - Vauxhall\",\"lat\":[\"51.4741\",\"51.49028\"],\"line\":{\"color\":\"red\",\"width\":2},\"lon\":[\"-0.11947\",\"-0.1185\"],\"mode\":\"lines\",\"name\":\"Stockwell - Vauxhall\",\"opacity\":0.391599790917197,\"type\":\"scattermapbox\"},{\"hovertext\":\"Liverpool Street - Waterloo\",\"lat\":[\"51.51883\",\"51.50095\"],\"line\":{\"color\":\"red\",\"width\":2},\"lon\":[\"-0.08165\",\"-0.11342\"],\"mode\":\"lines\",\"name\":\"Liverpool Street - Waterloo\",\"opacity\":0.3812494234849183,\"type\":\"scattermapbox\"},{\"hovertext\":\"Camden Town - Marylebone\",\"lat\":[\"51.53821\",\"51.51948\"],\"line\":{\"color\":\"red\",\"width\":2},\"lon\":[\"-0.14134\",\"-0.15783\"],\"mode\":\"lines\",\"name\":\"Camden Town - Marylebone\",\"opacity\":0.3769140300710266,\"type\":\"scattermapbox\"},{\"hovertext\":\"Hoxton - St. Luke's\",\"lat\":[\"51.53134\",\"51.52613\"],\"line\":{\"color\":\"red\",\"width\":2},\"lon\":[\"-0.08565\",\"-0.0929\"],\"mode\":\"lines\",\"name\":\"Hoxton - St. Luke's\",\"opacity\":0.3736740153122406,\"type\":\"scattermapbox\"},{\"hovertext\":\"Bethnal Green - Stepney\",\"lat\":[\"51.52744\",\"51.51704\"],\"line\":{\"color\":\"red\",\"width\":2},\"lon\":[\"-0.05739\",\"-0.04924\"],\"mode\":\"lines\",\"name\":\"Bethnal Green - Stepney\",\"opacity\":0.3710143590689665,\"type\":\"scattermapbox\"},{\"hovertext\":\"Angel - Hoxton\",\"lat\":[\"51.53324\",\"51.53134\"],\"line\":{\"color\":\"red\",\"width\":2},\"lon\":[\"-0.10652\",\"-0.08565\"],\"mode\":\"lines\",\"name\":\"Angel - Hoxton\",\"opacity\":0.3704685914583525,\"type\":\"scattermapbox\"},{\"hovertext\":\"Bloomsbury - Camden Town\",\"lat\":[\"51.52292\",\"51.53821\"],\"line\":{\"color\":\"red\",\"width\":2},\"lon\":[\"-0.12635\",\"-0.14134\"],\"mode\":\"lines\",\"name\":\"Bloomsbury - Camden Town\",\"opacity\":0.3703494450081481,\"type\":\"scattermapbox\"},{\"hovertext\":\"Hyde Park - Strand\",\"lat\":[\"51.50562\",\"51.51027\"],\"line\":{\"color\":\"red\",\"width\":2},\"lon\":[\"-0.16149\",\"-0.12048\"],\"mode\":\"lines\",\"name\":\"Hyde Park - Strand\",\"opacity\":0.3656028041693571,\"type\":\"scattermapbox\"},{\"hovertext\":\"Battersea Park - Chelsea\",\"lat\":[\"51.47738\",\"51.48862\"],\"line\":{\"color\":\"red\",\"width\":2},\"lon\":[\"-0.1542\",\"-0.16723\"],\"mode\":\"lines\",\"name\":\"Battersea Park - Chelsea\",\"opacity\":0.3622013651877133,\"type\":\"scattermapbox\"},{\"hovertext\":\"Kensington - Knightsbridge\",\"lat\":[\"51.50034\",\"51.49808\"],\"line\":{\"color\":\"red\",\"width\":2},\"lon\":[\"-0.19268\",\"-0.16788\"],\"mode\":\"lines\",\"name\":\"Kensington - Knightsbridge\",\"opacity\":0.3617363096885281,\"type\":\"scattermapbox\"},{\"hovertext\":\"Stepney - Whitechapel\",\"lat\":[\"51.51704\",\"51.51808\"],\"line\":{\"color\":\"red\",\"width\":2},\"lon\":[\"-0.04924\",\"-0.06597\"],\"mode\":\"lines\",\"name\":\"Stepney - Whitechapel\",\"opacity\":0.358523198966885,\"type\":\"scattermapbox\"},{\"hovertext\":\"Knightsbridge - Mayfair\",\"lat\":[\"51.49808\",\"51.50988\"],\"line\":{\"color\":\"red\",\"width\":2},\"lon\":[\"-0.16788\",\"-0.1479\"],\"mode\":\"lines\",\"name\":\"Knightsbridge - Mayfair\",\"opacity\":0.3539302954831965,\"type\":\"scattermapbox\"},{\"hovertext\":\"Bayswater - Hyde Park\",\"lat\":[\"51.515\",\"51.50562\"],\"line\":{\"color\":\"red\",\"width\":2},\"lon\":[\"-0.18647\",\"-0.16149\"],\"mode\":\"lines\",\"name\":\"Bayswater - Hyde Park\",\"opacity\":0.353899548012176,\"type\":\"scattermapbox\"},{\"hovertext\":\"Marylebone - Soho\",\"lat\":[\"51.51948\",\"51.5134\"],\"line\":{\"color\":\"red\",\"width\":2},\"lon\":[\"-0.15783\",\"-0.13325\"],\"mode\":\"lines\",\"name\":\"Marylebone - Soho\",\"opacity\":0.3519586139040064,\"type\":\"scattermapbox\"},{\"hovertext\":\"Haggerston - Shoreditch\",\"lat\":[\"51.53581\",\"51.52416\"],\"line\":{\"color\":\"red\",\"width\":2},\"lon\":[\"-0.07083\",\"-0.07619\"],\"mode\":\"lines\",\"name\":\"Haggerston - Shoreditch\",\"opacity\":0.3501252959444085,\"type\":\"scattermapbox\"},{\"hovertext\":\"Hoxton - Liverpool Street\",\"lat\":[\"51.53134\",\"51.51883\"],\"line\":{\"color\":\"red\",\"width\":2},\"lon\":[\"-0.08565\",\"-0.08165\"],\"mode\":\"lines\",\"name\":\"Hoxton - Liverpool Street\",\"opacity\":0.3500445838329797,\"type\":\"scattermapbox\"},{\"hovertext\":\"King's Cross - Marylebone\",\"lat\":[\"51.53367\",\"51.51948\"],\"line\":{\"color\":\"red\",\"width\":2},\"lon\":[\"-0.12209\",\"-0.15783\"],\"mode\":\"lines\",\"name\":\"King's Cross - Marylebone\",\"opacity\":0.3474771700027673,\"type\":\"scattermapbox\"},{\"hovertext\":\"Earl's Court - Kensington\",\"lat\":[\"51.49213\",\"51.50034\"],\"line\":{\"color\":\"red\",\"width\":2},\"lon\":[\"-0.19276\",\"-0.19268\"],\"mode\":\"lines\",\"name\":\"Earl's Court - Kensington\",\"opacity\":0.3469044983550103,\"type\":\"scattermapbox\"},{\"hovertext\":\"Mile End - Stepney\",\"lat\":[\"51.52326\",\"51.51704\"],\"line\":{\"color\":\"red\",\"width\":2},\"lon\":[\"-0.03619\",\"-0.04924\"],\"mode\":\"lines\",\"name\":\"Mile End - Stepney\",\"opacity\":0.3448713218337791,\"type\":\"scattermapbox\"},{\"hovertext\":\"Fulham - Parson's Green\",\"lat\":[\"51.47634\",\"51.47204\"],\"line\":{\"color\":\"red\",\"width\":2},\"lon\":[\"-0.21127\",\"-0.20051\"],\"mode\":\"lines\",\"name\":\"Fulham - Parson's Green\",\"opacity\":0.3431264028533653,\"type\":\"scattermapbox\"},{\"hovertext\":\"Chelsea - South Kensington\",\"lat\":[\"51.48862\",\"51.49441\"],\"line\":{\"color\":\"red\",\"width\":2},\"lon\":[\"-0.16723\",\"-0.17807\"],\"mode\":\"lines\",\"name\":\"Chelsea - South Kensington\",\"opacity\":0.3417658272607078,\"type\":\"scattermapbox\"},{\"hovertext\":\"Knightsbridge - Marylebone\",\"lat\":[\"51.49808\",\"51.51948\"],\"line\":{\"color\":\"red\",\"width\":2},\"lon\":[\"-0.16788\",\"-0.15783\"],\"mode\":\"lines\",\"name\":\"Knightsbridge - Marylebone\",\"opacity\":0.3353357623835439,\"type\":\"scattermapbox\"},{\"hovertext\":\"Hyde Park - South Kensington\",\"lat\":[\"51.50562\",\"51.49441\"],\"line\":{\"color\":\"red\",\"width\":2},\"lon\":[\"-0.16149\",\"-0.17807\"],\"mode\":\"lines\",\"name\":\"Hyde Park - South Kensington\",\"opacity\":0.3350628785782369,\"type\":\"scattermapbox\"},{\"hovertext\":\"Sands End - Walham Green\",\"lat\":[\"51.47049\",\"51.47731\"],\"line\":{\"color\":\"red\",\"width\":2},\"lon\":[\"-0.18915\",\"-0.19283\"],\"mode\":\"lines\",\"name\":\"Sands End - Walham Green\",\"opacity\":0.3318536112904713,\"type\":\"scattermapbox\"},{\"hovertext\":\"Earl's Court - South Kensington\",\"lat\":[\"51.49213\",\"51.49441\"],\"line\":{\"color\":\"red\",\"width\":2},\"lon\":[\"-0.19276\",\"-0.17807\"],\"mode\":\"lines\",\"name\":\"Earl's Court - South Kensington\",\"opacity\":0.3290901823325031,\"type\":\"scattermapbox\"},{\"hovertext\":\"Bank - Waterloo\",\"lat\":[\"51.5128\",\"51.50095\"],\"line\":{\"color\":\"red\",\"width\":2},\"lon\":[\"-0.09163\",\"-0.11342\"],\"mode\":\"lines\",\"name\":\"Bank - Waterloo\",\"opacity\":0.3286328137010731,\"type\":\"scattermapbox\"},{\"hovertext\":\"Camden Town - The Regent's Park\",\"lat\":[\"51.53821\",\"51.53038\"],\"line\":{\"color\":\"red\",\"width\":2},\"lon\":[\"-0.14134\",\"-0.15448\"],\"mode\":\"lines\",\"name\":\"Camden Town - The Regent's Park\",\"opacity\":0.3221450973157458,\"type\":\"scattermapbox\"},{\"hovertext\":\"Angel - King's Cross\",\"lat\":[\"51.53324\",\"51.53367\"],\"line\":{\"color\":\"red\",\"width\":2},\"lon\":[\"-0.10652\",\"-0.12209\"],\"mode\":\"lines\",\"name\":\"Angel - King's Cross\",\"opacity\":0.3221450973157458,\"type\":\"scattermapbox\"},{\"hovertext\":\"Holborn - Marylebone\",\"lat\":[\"51.51776\",\"51.51948\"],\"line\":{\"color\":\"red\",\"width\":2},\"lon\":[\"-0.11324\",\"-0.15783\"],\"mode\":\"lines\",\"name\":\"Holborn - Marylebone\",\"opacity\":0.3196737693324724,\"type\":\"scattermapbox\"},{\"hovertext\":\"Bethnal Green - Whitechapel\",\"lat\":[\"51.52744\",\"51.51808\"],\"line\":{\"color\":\"red\",\"width\":2},\"lon\":[\"-0.05739\",\"-0.06597\"],\"mode\":\"lines\",\"name\":\"Bethnal Green - Whitechapel\",\"opacity\":0.3193201734157365,\"type\":\"scattermapbox\"},{\"hovertext\":\"St. Paul's - Waterloo\",\"lat\":[\"51.51356\",\"51.50095\"],\"line\":{\"color\":\"red\",\"width\":2},\"lon\":[\"-0.0994\",\"-0.11342\"],\"mode\":\"lines\",\"name\":\"St. Paul's - Waterloo\",\"opacity\":0.3173215877994035,\"type\":\"scattermapbox\"},{\"hovertext\":\"Shoreditch - Whitechapel\",\"lat\":[\"51.52416\",\"51.51808\"],\"line\":{\"color\":\"red\",\"width\":2},\"lon\":[\"-0.07619\",\"-0.06597\"],\"mode\":\"lines\",\"name\":\"Shoreditch - Whitechapel\",\"opacity\":0.3162877040863389,\"type\":\"scattermapbox\"},{\"hovertext\":\"Waterloo - Westminster\",\"lat\":[\"51.50095\",\"51.49676\"],\"line\":{\"color\":\"red\",\"width\":2},\"lon\":[\"-0.11342\",\"-0.13301\"],\"mode\":\"lines\",\"name\":\"Waterloo - Westminster\",\"opacity\":0.3143736740153122,\"type\":\"scattermapbox\"},{\"hovertext\":\"Euston - Marylebone\",\"lat\":[\"51.5261\",\"51.51948\"],\"line\":{\"color\":\"red\",\"width\":2},\"lon\":[\"-0.13489\",\"-0.15783\"],\"mode\":\"lines\",\"name\":\"Euston - Marylebone\",\"opacity\":0.3085470282569258,\"type\":\"scattermapbox\"},{\"hovertext\":\"Clapham Junction - Wandsworth\",\"lat\":[\"51.46406\",\"51.45998\"],\"line\":{\"color\":\"red\",\"width\":2},\"lon\":[\"-0.17169\",\"-0.19446\"],\"mode\":\"lines\",\"name\":\"Clapham Junction - Wandsworth\",\"opacity\":0.3070634627801863,\"type\":\"scattermapbox\"},{\"hovertext\":\"Battersea Park - Pimlico\",\"lat\":[\"51.47738\",\"51.48891\"],\"line\":{\"color\":\"red\",\"width\":2},\"lon\":[\"-0.1542\",\"-0.13785\"],\"mode\":\"lines\",\"name\":\"Battersea Park - Pimlico\",\"opacity\":0.3014097715462903,\"type\":\"scattermapbox\"},{\"hovertext\":\"South Kensington - West Chelsea\",\"lat\":[\"51.49441\",\"51.48226\"],\"line\":{\"color\":\"red\",\"width\":2},\"lon\":[\"-0.17807\",\"-0.17975\"],\"mode\":\"lines\",\"name\":\"South Kensington - West Chelsea\",\"opacity\":0.3002375242136334,\"type\":\"scattermapbox\"},{\"hovertext\":\"Holborn - Liverpool Street\",\"lat\":[\"51.51776\",\"51.51883\"],\"line\":{\"color\":\"red\",\"width\":2},\"lon\":[\"-0.11324\",\"-0.08165\"],\"mode\":\"lines\",\"name\":\"Holborn - Liverpool Street\",\"opacity\":0.2988961657903637,\"type\":\"scattermapbox\"},{\"hovertext\":\"Chelsea - West Chelsea\",\"lat\":[\"51.48862\",\"51.48226\"],\"line\":{\"color\":\"red\",\"width\":2},\"lon\":[\"-0.16723\",\"-0.17975\"],\"mode\":\"lines\",\"name\":\"Chelsea - West Chelsea\",\"opacity\":0.2979045598499523,\"type\":\"scattermapbox\"},{\"hovertext\":\"Chelsea - Knightsbridge\",\"lat\":[\"51.48862\",\"51.49808\"],\"line\":{\"color\":\"red\",\"width\":2},\"lon\":[\"-0.16723\",\"-0.16788\"],\"mode\":\"lines\",\"name\":\"Chelsea - Knightsbridge\",\"opacity\":0.2931271715401408,\"type\":\"scattermapbox\"},{\"hovertext\":\"Clerkenwell - Holborn\",\"lat\":[\"51.5262\",\"51.51776\"],\"line\":{\"color\":\"red\",\"width\":2},\"lon\":[\"-0.10962\",\"-0.11324\"],\"mode\":\"lines\",\"name\":\"Clerkenwell - Holborn\",\"opacity\":0.2916666666666667,\"type\":\"scattermapbox\"},{\"hovertext\":\"Battersea - Chelsea\",\"lat\":[\"51.47151\",\"51.48862\"],\"line\":{\"color\":\"red\",\"width\":2},\"lon\":[\"-0.16366\",\"-0.16723\"],\"mode\":\"lines\",\"name\":\"Battersea - Chelsea\",\"opacity\":0.2898026012360483,\"type\":\"scattermapbox\"},{\"hovertext\":\"Strand - Waterloo\",\"lat\":[\"51.51027\",\"51.50095\"],\"line\":{\"color\":\"red\",\"width\":2},\"lon\":[\"-0.12048\",\"-0.11342\"],\"mode\":\"lines\",\"name\":\"Strand - Waterloo\",\"opacity\":0.287850136826246,\"type\":\"scattermapbox\"},{\"hovertext\":\"Kennington - Vauxhall\",\"lat\":[\"51.48872\",\"51.49028\"],\"line\":{\"color\":\"red\",\"width\":2},\"lon\":[\"-0.10729\",\"-0.1185\"],\"mode\":\"lines\",\"name\":\"Kennington - Vauxhall\",\"opacity\":0.2858822986809335,\"type\":\"scattermapbox\"},{\"hovertext\":\"Borough - South Bank\",\"lat\":[\"51.49946\",\"51.50561\"],\"line\":{\"color\":\"red\",\"width\":2},\"lon\":[\"-0.09326\",\"-0.1129\"],\"mode\":\"lines\",\"name\":\"Borough - South Bank\",\"opacity\":0.2828690465209236,\"type\":\"scattermapbox\"},{\"hovertext\":\"Nine Elms - Vauxhall\",\"lat\":[\"51.48107\",\"51.49028\"],\"line\":{\"color\":\"red\",\"width\":2},\"lon\":[\"-0.1387\",\"-0.1185\"],\"mode\":\"lines\",\"name\":\"Nine Elms - Vauxhall\",\"opacity\":0.2790602035482581,\"type\":\"scattermapbox\"},{\"hovertext\":\"Bethnal Green - Mile End\",\"lat\":[\"51.52744\",\"51.52326\"],\"line\":{\"color\":\"red\",\"width\":2},\"lon\":[\"-0.05739\",\"-0.03619\"],\"mode\":\"lines\",\"name\":\"Bethnal Green - Mile End\",\"opacity\":0.2788872490237678,\"type\":\"scattermapbox\"},{\"hovertext\":\"Bloomsbury - Clerkenwell\",\"lat\":[\"51.52292\",\"51.5262\"],\"line\":{\"color\":\"red\",\"width\":2},\"lon\":[\"-0.12635\",\"-0.10962\"],\"mode\":\"lines\",\"name\":\"Bloomsbury - Clerkenwell\",\"opacity\":0.2744096485564062,\"type\":\"scattermapbox\"},{\"hovertext\":\"Bankside - Waterloo\",\"lat\":[\"51.50618\",\"51.50095\"],\"line\":{\"color\":\"red\",\"width\":2},\"lon\":[\"-0.09824\",\"-0.11342\"],\"mode\":\"lines\",\"name\":\"Bankside - Waterloo\",\"opacity\":0.2731067244719122,\"type\":\"scattermapbox\"},{\"hovertext\":\"Bayswater - Mayfair\",\"lat\":[\"51.515\",\"51.50988\"],\"line\":{\"color\":\"red\",\"width\":2},\"lon\":[\"-0.18647\",\"-0.1479\"],\"mode\":\"lines\",\"name\":\"Bayswater - Mayfair\",\"opacity\":0.2727262245180334,\"type\":\"scattermapbox\"},{\"hovertext\":\"Pimlico - Vauxhall\",\"lat\":[\"51.48891\",\"51.49028\"],\"line\":{\"color\":\"red\",\"width\":2},\"lon\":[\"-0.13785\",\"-0.1185\"],\"mode\":\"lines\",\"name\":\"Pimlico - Vauxhall\",\"opacity\":0.2723918457706853,\"type\":\"scattermapbox\"},{\"hovertext\":\"Fulham - Walham Green\",\"lat\":[\"51.47634\",\"51.47731\"],\"line\":{\"color\":\"red\",\"width\":2},\"lon\":[\"-0.21127\",\"-0.19283\"],\"mode\":\"lines\",\"name\":\"Fulham - Walham Green\",\"opacity\":0.2656158718445408,\"type\":\"scattermapbox\"},{\"hovertext\":\"Vauxhall - Victoria\",\"lat\":[\"51.49028\",\"51.49382\"],\"line\":{\"color\":\"red\",\"width\":2},\"lon\":[\"-0.1185\",\"-0.14285\"],\"mode\":\"lines\",\"name\":\"Vauxhall - Victoria\",\"opacity\":0.2648664022384159,\"type\":\"scattermapbox\"},{\"hovertext\":\"Bankside - Borough\",\"lat\":[\"51.50618\",\"51.49946\"],\"line\":{\"color\":\"red\",\"width\":2},\"lon\":[\"-0.09824\",\"-0.09326\"],\"mode\":\"lines\",\"name\":\"Bankside - Borough\",\"opacity\":0.2637556498478,\"type\":\"scattermapbox\"},{\"hovertext\":\"Borough - Strand\",\"lat\":[\"51.49946\",\"51.51027\"],\"line\":{\"color\":\"red\",\"width\":2},\"lon\":[\"-0.09326\",\"-0.12048\"],\"mode\":\"lines\",\"name\":\"Borough - Strand\",\"opacity\":0.2619838268302432,\"type\":\"scattermapbox\"},{\"hovertext\":\"Marylebone - Strand\",\"lat\":[\"51.51948\",\"51.51027\"],\"line\":{\"color\":\"red\",\"width\":2},\"lon\":[\"-0.15783\",\"-0.12048\"],\"mode\":\"lines\",\"name\":\"Marylebone - Strand\",\"opacity\":0.2615879531408541,\"type\":\"scattermapbox\"},{\"hovertext\":\"Parson's Green - Sands End\",\"lat\":[\"51.47204\",\"51.47049\"],\"line\":{\"color\":\"red\",\"width\":2},\"lon\":[\"-0.20051\",\"-0.18915\"],\"mode\":\"lines\",\"name\":\"Parson's Green - Sands End\",\"opacity\":0.2614995541616702,\"type\":\"scattermapbox\"},{\"hovertext\":\"Marylebone - Westminster\",\"lat\":[\"51.51948\",\"51.49676\"],\"line\":{\"color\":\"red\",\"width\":2},\"lon\":[\"-0.15783\",\"-0.13301\"],\"mode\":\"lines\",\"name\":\"Marylebone - Westminster\",\"opacity\":0.2613265996371798,\"type\":\"scattermapbox\"},{\"hovertext\":\"Bethnal Green - Haggerston\",\"lat\":[\"51.52744\",\"51.53581\"],\"line\":{\"color\":\"red\",\"width\":2},\"lon\":[\"-0.05739\",\"-0.07083\"],\"mode\":\"lines\",\"name\":\"Bethnal Green - Haggerston\",\"opacity\":0.2602427512837069,\"type\":\"scattermapbox\"},{\"hovertext\":\"Canary Wharf - Cubitt Town\",\"lat\":[\"51.50414\",\"51.49292\"],\"line\":{\"color\":\"red\",\"width\":2},\"lon\":[\"-0.0204\",\"-0.01048\"],\"mode\":\"lines\",\"name\":\"Canary Wharf - Cubitt Town\",\"opacity\":0.2563262921624696,\"type\":\"scattermapbox\"},{\"hovertext\":\"Kensington - Mayfair\",\"lat\":[\"51.50034\",\"51.50988\"],\"line\":{\"color\":\"red\",\"width\":2},\"lon\":[\"-0.19268\",\"-0.1479\"],\"mode\":\"lines\",\"name\":\"Kensington - Mayfair\",\"opacity\":0.2537242874273591,\"type\":\"scattermapbox\"},{\"hovertext\":\"Haggerston - Hoxton\",\"lat\":[\"51.53581\",\"51.53134\"],\"line\":{\"color\":\"red\",\"width\":2},\"lon\":[\"-0.07083\",\"-0.08565\"],\"mode\":\"lines\",\"name\":\"Haggerston - Hoxton\",\"opacity\":0.2522599391200074,\"type\":\"scattermapbox\"}],                        {\"template\":{\"data\":{\"histogram2dcontour\":[{\"type\":\"histogram2dcontour\",\"colorbar\":{\"outlinewidth\":0,\"ticks\":\"\"},\"colorscale\":[[0.0,\"#0d0887\"],[0.1111111111111111,\"#46039f\"],[0.2222222222222222,\"#7201a8\"],[0.3333333333333333,\"#9c179e\"],[0.4444444444444444,\"#bd3786\"],[0.5555555555555556,\"#d8576b\"],[0.6666666666666666,\"#ed7953\"],[0.7777777777777778,\"#fb9f3a\"],[0.8888888888888888,\"#fdca26\"],[1.0,\"#f0f921\"]]}],\"choropleth\":[{\"type\":\"choropleth\",\"colorbar\":{\"outlinewidth\":0,\"ticks\":\"\"}}],\"histogram2d\":[{\"type\":\"histogram2d\",\"colorbar\":{\"outlinewidth\":0,\"ticks\":\"\"},\"colorscale\":[[0.0,\"#0d0887\"],[0.1111111111111111,\"#46039f\"],[0.2222222222222222,\"#7201a8\"],[0.3333333333333333,\"#9c179e\"],[0.4444444444444444,\"#bd3786\"],[0.5555555555555556,\"#d8576b\"],[0.6666666666666666,\"#ed7953\"],[0.7777777777777778,\"#fb9f3a\"],[0.8888888888888888,\"#fdca26\"],[1.0,\"#f0f921\"]]}],\"heatmap\":[{\"type\":\"heatmap\",\"colorbar\":{\"outlinewidth\":0,\"ticks\":\"\"},\"colorscale\":[[0.0,\"#0d0887\"],[0.1111111111111111,\"#46039f\"],[0.2222222222222222,\"#7201a8\"],[0.3333333333333333,\"#9c179e\"],[0.4444444444444444,\"#bd3786\"],[0.5555555555555556,\"#d8576b\"],[0.6666666666666666,\"#ed7953\"],[0.7777777777777778,\"#fb9f3a\"],[0.8888888888888888,\"#fdca26\"],[1.0,\"#f0f921\"]]}],\"heatmapgl\":[{\"type\":\"heatmapgl\",\"colorbar\":{\"outlinewidth\":0,\"ticks\":\"\"},\"colorscale\":[[0.0,\"#0d0887\"],[0.1111111111111111,\"#46039f\"],[0.2222222222222222,\"#7201a8\"],[0.3333333333333333,\"#9c179e\"],[0.4444444444444444,\"#bd3786\"],[0.5555555555555556,\"#d8576b\"],[0.6666666666666666,\"#ed7953\"],[0.7777777777777778,\"#fb9f3a\"],[0.8888888888888888,\"#fdca26\"],[1.0,\"#f0f921\"]]}],\"contourcarpet\":[{\"type\":\"contourcarpet\",\"colorbar\":{\"outlinewidth\":0,\"ticks\":\"\"}}],\"contour\":[{\"type\":\"contour\",\"colorbar\":{\"outlinewidth\":0,\"ticks\":\"\"},\"colorscale\":[[0.0,\"#0d0887\"],[0.1111111111111111,\"#46039f\"],[0.2222222222222222,\"#7201a8\"],[0.3333333333333333,\"#9c179e\"],[0.4444444444444444,\"#bd3786\"],[0.5555555555555556,\"#d8576b\"],[0.6666666666666666,\"#ed7953\"],[0.7777777777777778,\"#fb9f3a\"],[0.8888888888888888,\"#fdca26\"],[1.0,\"#f0f921\"]]}],\"surface\":[{\"type\":\"surface\",\"colorbar\":{\"outlinewidth\":0,\"ticks\":\"\"},\"colorscale\":[[0.0,\"#0d0887\"],[0.1111111111111111,\"#46039f\"],[0.2222222222222222,\"#7201a8\"],[0.3333333333333333,\"#9c179e\"],[0.4444444444444444,\"#bd3786\"],[0.5555555555555556,\"#d8576b\"],[0.6666666666666666,\"#ed7953\"],[0.7777777777777778,\"#fb9f3a\"],[0.8888888888888888,\"#fdca26\"],[1.0,\"#f0f921\"]]}],\"mesh3d\":[{\"type\":\"mesh3d\",\"colorbar\":{\"outlinewidth\":0,\"ticks\":\"\"}}],\"scatter\":[{\"fillpattern\":{\"fillmode\":\"overlay\",\"size\":10,\"solidity\":0.2},\"type\":\"scatter\"}],\"parcoords\":[{\"type\":\"parcoords\",\"line\":{\"colorbar\":{\"outlinewidth\":0,\"ticks\":\"\"}}}],\"scatterpolargl\":[{\"type\":\"scatterpolargl\",\"marker\":{\"colorbar\":{\"outlinewidth\":0,\"ticks\":\"\"}}}],\"bar\":[{\"error_x\":{\"color\":\"#2a3f5f\"},\"error_y\":{\"color\":\"#2a3f5f\"},\"marker\":{\"line\":{\"color\":\"#E5ECF6\",\"width\":0.5},\"pattern\":{\"fillmode\":\"overlay\",\"size\":10,\"solidity\":0.2}},\"type\":\"bar\"}],\"scattergeo\":[{\"type\":\"scattergeo\",\"marker\":{\"colorbar\":{\"outlinewidth\":0,\"ticks\":\"\"}}}],\"scatterpolar\":[{\"type\":\"scatterpolar\",\"marker\":{\"colorbar\":{\"outlinewidth\":0,\"ticks\":\"\"}}}],\"histogram\":[{\"marker\":{\"pattern\":{\"fillmode\":\"overlay\",\"size\":10,\"solidity\":0.2}},\"type\":\"histogram\"}],\"scattergl\":[{\"type\":\"scattergl\",\"marker\":{\"colorbar\":{\"outlinewidth\":0,\"ticks\":\"\"}}}],\"scatter3d\":[{\"type\":\"scatter3d\",\"line\":{\"colorbar\":{\"outlinewidth\":0,\"ticks\":\"\"}},\"marker\":{\"colorbar\":{\"outlinewidth\":0,\"ticks\":\"\"}}}],\"scattermapbox\":[{\"type\":\"scattermapbox\",\"marker\":{\"colorbar\":{\"outlinewidth\":0,\"ticks\":\"\"}}}],\"scatterternary\":[{\"type\":\"scatterternary\",\"marker\":{\"colorbar\":{\"outlinewidth\":0,\"ticks\":\"\"}}}],\"scattercarpet\":[{\"type\":\"scattercarpet\",\"marker\":{\"colorbar\":{\"outlinewidth\":0,\"ticks\":\"\"}}}],\"carpet\":[{\"aaxis\":{\"endlinecolor\":\"#2a3f5f\",\"gridcolor\":\"white\",\"linecolor\":\"white\",\"minorgridcolor\":\"white\",\"startlinecolor\":\"#2a3f5f\"},\"baxis\":{\"endlinecolor\":\"#2a3f5f\",\"gridcolor\":\"white\",\"linecolor\":\"white\",\"minorgridcolor\":\"white\",\"startlinecolor\":\"#2a3f5f\"},\"type\":\"carpet\"}],\"table\":[{\"cells\":{\"fill\":{\"color\":\"#EBF0F8\"},\"line\":{\"color\":\"white\"}},\"header\":{\"fill\":{\"color\":\"#C8D4E3\"},\"line\":{\"color\":\"white\"}},\"type\":\"table\"}],\"barpolar\":[{\"marker\":{\"line\":{\"color\":\"#E5ECF6\",\"width\":0.5},\"pattern\":{\"fillmode\":\"overlay\",\"size\":10,\"solidity\":0.2}},\"type\":\"barpolar\"}],\"pie\":[{\"automargin\":true,\"type\":\"pie\"}]},\"layout\":{\"autotypenumbers\":\"strict\",\"colorway\":[\"#636efa\",\"#EF553B\",\"#00cc96\",\"#ab63fa\",\"#FFA15A\",\"#19d3f3\",\"#FF6692\",\"#B6E880\",\"#FF97FF\",\"#FECB52\"],\"font\":{\"color\":\"#2a3f5f\"},\"hovermode\":\"closest\",\"hoverlabel\":{\"align\":\"left\"},\"paper_bgcolor\":\"white\",\"plot_bgcolor\":\"#E5ECF6\",\"polar\":{\"bgcolor\":\"#E5ECF6\",\"angularaxis\":{\"gridcolor\":\"white\",\"linecolor\":\"white\",\"ticks\":\"\"},\"radialaxis\":{\"gridcolor\":\"white\",\"linecolor\":\"white\",\"ticks\":\"\"}},\"ternary\":{\"bgcolor\":\"#E5ECF6\",\"aaxis\":{\"gridcolor\":\"white\",\"linecolor\":\"white\",\"ticks\":\"\"},\"baxis\":{\"gridcolor\":\"white\",\"linecolor\":\"white\",\"ticks\":\"\"},\"caxis\":{\"gridcolor\":\"white\",\"linecolor\":\"white\",\"ticks\":\"\"}},\"coloraxis\":{\"colorbar\":{\"outlinewidth\":0,\"ticks\":\"\"}},\"colorscale\":{\"sequential\":[[0.0,\"#0d0887\"],[0.1111111111111111,\"#46039f\"],[0.2222222222222222,\"#7201a8\"],[0.3333333333333333,\"#9c179e\"],[0.4444444444444444,\"#bd3786\"],[0.5555555555555556,\"#d8576b\"],[0.6666666666666666,\"#ed7953\"],[0.7777777777777778,\"#fb9f3a\"],[0.8888888888888888,\"#fdca26\"],[1.0,\"#f0f921\"]],\"sequentialminus\":[[0.0,\"#0d0887\"],[0.1111111111111111,\"#46039f\"],[0.2222222222222222,\"#7201a8\"],[0.3333333333333333,\"#9c179e\"],[0.4444444444444444,\"#bd3786\"],[0.5555555555555556,\"#d8576b\"],[0.6666666666666666,\"#ed7953\"],[0.7777777777777778,\"#fb9f3a\"],[0.8888888888888888,\"#fdca26\"],[1.0,\"#f0f921\"]],\"diverging\":[[0,\"#8e0152\"],[0.1,\"#c51b7d\"],[0.2,\"#de77ae\"],[0.3,\"#f1b6da\"],[0.4,\"#fde0ef\"],[0.5,\"#f7f7f7\"],[0.6,\"#e6f5d0\"],[0.7,\"#b8e186\"],[0.8,\"#7fbc41\"],[0.9,\"#4d9221\"],[1,\"#276419\"]]},\"xaxis\":{\"gridcolor\":\"white\",\"linecolor\":\"white\",\"ticks\":\"\",\"title\":{\"standoff\":15},\"zerolinecolor\":\"white\",\"automargin\":true,\"zerolinewidth\":2},\"yaxis\":{\"gridcolor\":\"white\",\"linecolor\":\"white\",\"ticks\":\"\",\"title\":{\"standoff\":15},\"zerolinecolor\":\"white\",\"automargin\":true,\"zerolinewidth\":2},\"scene\":{\"xaxis\":{\"backgroundcolor\":\"#E5ECF6\",\"gridcolor\":\"white\",\"linecolor\":\"white\",\"showbackground\":true,\"ticks\":\"\",\"zerolinecolor\":\"white\",\"gridwidth\":2},\"yaxis\":{\"backgroundcolor\":\"#E5ECF6\",\"gridcolor\":\"white\",\"linecolor\":\"white\",\"showbackground\":true,\"ticks\":\"\",\"zerolinecolor\":\"white\",\"gridwidth\":2},\"zaxis\":{\"backgroundcolor\":\"#E5ECF6\",\"gridcolor\":\"white\",\"linecolor\":\"white\",\"showbackground\":true,\"ticks\":\"\",\"zerolinecolor\":\"white\",\"gridwidth\":2}},\"shapedefaults\":{\"line\":{\"color\":\"#2a3f5f\"}},\"annotationdefaults\":{\"arrowcolor\":\"#2a3f5f\",\"arrowhead\":0,\"arrowwidth\":1},\"geo\":{\"bgcolor\":\"white\",\"landcolor\":\"#E5ECF6\",\"subunitcolor\":\"white\",\"showland\":true,\"showlakes\":true,\"lakecolor\":\"white\"},\"title\":{\"x\":0.05},\"mapbox\":{\"style\":\"light\"}}},\"mapbox\":{\"domain\":{\"x\":[0.0,1.0],\"y\":[0.0,1.0]},\"center\":{\"lat\":51.509865,\"lon\":-0.118092},\"accesstoken\":\"pk.eyJ1Ijoiam1oYmF1ZGluNzUiLCJhIjoiY2xkYWY0aTh4MGYzaTN2bnB6NTVqcXlqeCJ9.k7_gsD6_d6aeh9EhU_0Nvw\",\"zoom\":11},\"legend\":{\"tracegroupgap\":0},\"margin\":{\"t\":60},\"height\":700,\"width\":1500},                        {\"responsive\": true}                    ).then(function(){\n",
       "                            \n",
       "var gd = document.getElementById('6520cce9-bc6c-452e-ad95-5d460535f017');\n",
       "var x = new MutationObserver(function (mutations, observer) {{\n",
       "        var display = window.getComputedStyle(gd).display;\n",
       "        if (!display || display === 'none') {{\n",
       "            console.log([gd, 'removed!']);\n",
       "            Plotly.purge(gd);\n",
       "            observer.disconnect();\n",
       "        }}\n",
       "}});\n",
       "\n",
       "// Listen for the removal of the full notebook cells\n",
       "var notebookContainer = gd.closest('#notebook-container');\n",
       "if (notebookContainer) {{\n",
       "    x.observe(notebookContainer, {childList: true});\n",
       "}}\n",
       "\n",
       "// Listen for the clearing of the current output cell\n",
       "var outputEl = gd.closest('.output');\n",
       "if (outputEl) {{\n",
       "    x.observe(outputEl, {childList: true});\n",
       "}}\n",
       "\n",
       "                        })                };                });            </script>        </div>"
      ]
     },
     "metadata": {},
     "output_type": "display_data"
    },
    {
     "name": "stdout",
     "output_type": "stream",
     "text": [
      "CPU times: user 118 ms, sys: 4.22 ms, total: 122 ms\n",
      "Wall time: 121 ms\n"
     ]
    }
   ],
   "source": [
    "%%time\n",
    "# max_trips= float(df_trips_grouped['trips'].max())\n",
    "px.set_mapbox_access_token('pk.eyJ1Ijoiam1oYmF1ZGluNzUiLCJhIjoiY2xkYWY0aTh4MGYzaTN2bnB6NTVqcXlqeCJ9.k7_gsD6_d6aeh9EhU_0Nvw')\n",
    "\n",
    "fig = px.scatter_mapbox(data_frame=df_stations_zone,\n",
    "                        lat='avg_lat', lon='avg_lon',\n",
    "                        center= center,\n",
    "                        zoom=11,\n",
    "                        width= 1500,\n",
    "                        height= 700,\n",
    "                        text=df_stations_zone.zone,\n",
    "                        # size_max=0.1,\n",
    "                        \n",
    "                        )\n",
    "for i in range(len(df_trips_zones)):\n",
    "    fig.add_trace(\n",
    "        go.Scattermapbox(\n",
    "            lon = df_trips_zones['lon'][i],\n",
    "            lat = df_trips_zones['lat'][i],\n",
    "            mode = 'lines',\n",
    "            line = dict(width = 2,color = 'red'),\n",
    "            opacity = df_trips_zones['trips_scaled'][i],\n",
    "            name=df_trips_zones['name'][i],\n",
    "            hovertext=df_trips_zones['name'][i]\n",
    "        )\n",
    "    )\n",
    "\n",
    "# fig.update_layout(px.scatter_mapbox(\n",
    "#                   marker = {'color': scaled_trip_total,\n",
    "#                   'size': 5,\n",
    "#                   'opacity': 0.6}))\n",
    "\n",
    "fig.show()"
   ]
  },
  {
   "cell_type": "code",
   "execution_count": 48,
   "metadata": {
    "id": "lNtdx31vV3Wh"
   },
   "outputs": [],
   "source": [
    "df_stations_zone.to_csv('df_stations_zone.csv', index=False)"
   ]
  },
  {
   "cell_type": "code",
   "execution_count": 47,
   "metadata": {
    "id": "KR5FDoM5VnUv"
   },
   "outputs": [],
   "source": [
    "df_trips_zones.to_csv('df_trips_zones.csv', index=False)"
   ]
  }
 ],
 "metadata": {
  "colab": {
   "provenance": []
  },
  "kernelspec": {
   "display_name": "Python 3 (ipykernel)",
   "language": "python",
   "name": "python3"
  },
  "language_info": {
   "codemirror_mode": {
    "name": "ipython",
    "version": 3
   },
   "file_extension": ".py",
   "mimetype": "text/x-python",
   "name": "python",
   "nbconvert_exporter": "python",
   "pygments_lexer": "ipython3",
   "version": "3.10.6"
  },
  "toc": {
   "base_numbering": 1,
   "nav_menu": {},
   "number_sections": true,
   "sideBar": true,
   "skip_h1_title": false,
   "title_cell": "Table of Contents",
   "title_sidebar": "Contents",
   "toc_cell": false,
   "toc_position": {},
   "toc_section_display": true,
   "toc_window_display": false
  }
 },
 "nbformat": 4,
 "nbformat_minor": 1
}
