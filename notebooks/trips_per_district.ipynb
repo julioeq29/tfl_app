{
 "cells": [
  {
   "cell_type": "code",
   "execution_count": 3,
   "metadata": {
    "id": "YnrgdWAn7wYl"
   },
   "outputs": [],
   "source": [
    "import numpy as np\n",
    "import pandas as pd\n",
    "import plotly.express as px\n",
    "# from google.cloud import bigquery\n",
    "# import pydata_google_auth\n",
    "\n",
    "# from google.colab import auth\n",
    "# import pandas as pd\n",
    "\n",
    "# auth.authenticate_user()\n"
   ]
  },
  {
   "cell_type": "code",
   "execution_count": 4,
   "metadata": {
    "id": "Xb8aQ3xmQUIU"
   },
   "outputs": [],
   "source": [
    "# query = '''\n",
    "#   SELECT * \n",
    "#   FROM `tfl-data-lewagon.Dataset02.Dataset02_most_popular_trips`\n",
    "# '''\n",
    "# data = pd.read_gbq(query, project_id=\"tfl-data-lewagon\")\n",
    "# data"
   ]
  },
  {
   "cell_type": "code",
   "execution_count": 3,
   "metadata": {
    "id": "LL5eimk9QlcS"
   },
   "outputs": [],
   "source": [
    "# df_trips = data.copy()\n",
    "# df_trips['start_zone']= df_trips.Start_station_name.map(lambda x: x.split(',', 1)[1].strip())\n",
    "# df_trips['end_zone']  = df_trips.End_station_name.map(lambda x: x.split(',', 1)[1].strip())\n",
    "# df_trips = df_trips.astype({\n",
    "#     'Start_station_latitude': 'float32',\n",
    "#     'Start_station_longitude': 'float32',\n",
    "#     'End_station_latitude': 'float32',\n",
    "#     'End_station_longitude': 'float32',\n",
    "#                            })\n",
    "# df_trips = df_trips.round({\n",
    "#     'Start_station_latitude': 5,\n",
    "#     'Start_station_longitude': 5,\n",
    "#     'End_station_latitude': 5,\n",
    "#     'End_station_longitude': 5,\n",
    "#                            })\n",
    "# df_trips= df_trips.replace(['Kings Cross', 'Lingham Street, Stockwell', 'Parsons Green', 'St Lukes', 'St Pauls', \"St. John's Wood\", 'The Borough'], \n",
    "#                            [\"King's Cross\", 'Stockwell', \"Parson's Green\", \"St. Luke's\", \"St. Paul's\", \"St.John's Wood\", 'Borough'])"
   ]
  },
  {
   "cell_type": "code",
   "execution_count": 5,
   "metadata": {
    "id": "zIlC6dLN51xK"
   },
   "outputs": [],
   "source": [
    "# df_stations= df_trips.groupby(by=['Start_station_name'], as_index=False).agg( \n",
    "#     zone=('start_zone', 'first'),\n",
    "#     avg_lat=('Start_station_latitude', 'max'),\n",
    "#     avg_lon=('Start_station_longitude', 'max'))\n",
    "# df_stations_zone= df_stations.groupby(by=['zone'], as_index=False).agg( \n",
    "#     #trips=('popular_trips', 'sum'),\n",
    "#     avg_lat=('avg_lat', 'mean'),\n",
    "#     avg_lon=('avg_lon', 'mean'))\n",
    "# #df_end_stations.columns=df_start_stations.columns\n",
    "# #df_stations_zone=pd.concat([df_end_stations, df_start_stations])\n",
    "# #df_stations_zone= df_stations_zone.groupby('start_zone', as_index=False).mean()\n",
    "# #df_stations_zone['end_zone']=df_stations_zone.start_zone\n",
    "# #df_stations_zone.columns=['zone', 'avg_lat', 'avg_lon']\n",
    "# df_stations_zone=df_stations_zone.round(5)\n",
    "# df_stations_zone"
   ]
  },
  {
   "cell_type": "code",
   "execution_count": 6,
   "metadata": {
    "id": "-KNFJSFF2trm"
   },
   "outputs": [],
   "source": [
    "# from pandas.core.frame import Suffixes\n",
    "# df_trips_grouped= df_trips.groupby(by=['start_zone', 'end_zone'], as_index=False).agg( \n",
    "#     trips=('popular_trips', 'sum'),\n",
    "#     # avg_start_lat=('Start_station_latitude', 'mean'),\n",
    "#     # avg_start_lon=('Start_station_longitude', 'mean'),\n",
    "#     # avg_end_lat=('End_station_latitude', 'mean'),\n",
    "#     # avg_end_lon=('End_station_longitude', 'mean')\n",
    "# )\n",
    "# df_trips_grouped = df_trips_grouped.merge(df_stations_zone, how='left', left_on='start_zone', right_on='zone').merge(df_stations_zone, how='left', left_on='end_zone', right_on='zone', suffixes=('_start','_end'))\n",
    "# df_trips_grouped = df_trips_grouped.drop(labels=['zone_start', 'zone_end'], axis=1)\n",
    "# #df_trips_grouped = df_trips_grouped[df_trips_grouped.trips>=5000]\n",
    "# df_trips_grouped = df_trips_grouped[df_trips_grouped.start_zone != df_trips_grouped.end_zone]\n",
    "\n",
    "# #df_trips_grouped = df_trips_grouped.sample(1000)\n",
    "\n",
    "# df_trips_grouped.reset_index(inplace=True)"
   ]
  },
  {
   "cell_type": "code",
   "execution_count": 7,
   "metadata": {
    "id": "GcEPasCK_9bc"
   },
   "outputs": [],
   "source": [
    "# df_trips_grouped['lon']=list(zip(df_trips_grouped['avg_lon_start'], df_trips_grouped['avg_lon_end']))\n",
    "# df_trips_grouped['lon']=df_trips_grouped['lon'].map(lambda x: tuple([round(x[0], 5), round(x[1], 5)]))\n",
    "# df_trips_grouped['lat']=list(zip(df_trips_grouped['avg_lat_start'], df_trips_grouped['avg_lat_end']))\n",
    "# df_trips_grouped['lat']=df_trips_grouped['lat'].map(lambda x: tuple([round(x[0], 5), round(x[1], 5)]))\n",
    "# df_trips_grouped['name']=list(zip(df_trips_grouped['start_zone'], df_trips_grouped['end_zone']))\n",
    "# df_trips_grouped['name']= df_trips_grouped['name'].apply(sorted)\n",
    "# df_trips_grouped['name']= df_trips_grouped['name'].map(lambda x: f'{x[0]} - {x[1]}')\n",
    "# df_trips_grouped"
   ]
  },
  {
   "cell_type": "code",
   "execution_count": null,
   "metadata": {
    "id": "Ib3HogKR_9bd"
   },
   "outputs": [],
   "source": [
    "# len(df_trips_grouped.name.drop_duplicates())"
   ]
  },
  {
   "cell_type": "code",
   "execution_count": null,
   "metadata": {
    "id": "-F2ofDOt_9be"
   },
   "outputs": [],
   "source": [
    "# df_trips_zones= df_trips_grouped.groupby(by=['name'], as_index=False).agg( \n",
    "#     trips=('trips', 'sum'),\n",
    "#     lat=('lat', 'first'),\n",
    "#     lon=('lon', 'first')\n",
    "# ).sort_values(by='trips', ascending=False)\n",
    "# df_trips_zones.reset_index(inplace=True)\n",
    "# df_trips_zones"
   ]
  },
  {
   "cell_type": "code",
   "execution_count": 14,
   "metadata": {
    "id": "jtcaY40dUMVC"
   },
   "outputs": [],
   "source": [
    "import plotly.graph_objects as go\n"
   ]
  },
  {
   "cell_type": "code",
   "execution_count": 9,
   "metadata": {
    "id": "0TBs9C6t4Lgt"
   },
   "outputs": [],
   "source": [
    "# from sklearn.preprocessing import MinMaxScaler\n",
    "\n",
    "# scaler = MinMaxScaler()\n",
    "# scaled_trip_total = pd.DataFrame(scaler.fit_transform(df_trips_zones[['trips']]))\n",
    "# scaled_trip_total"
   ]
  },
  {
   "cell_type": "code",
   "execution_count": null,
   "metadata": {
    "id": "B-IoxspNYBO7",
    "scrolled": true
   },
   "outputs": [],
   "source": [
    "# df_trips_zones['trips_scaled'] = scaled_trip_total\n",
    "# #df_trips_grouped['start_zone2'] = df_trips_grouped['start_zone']\n",
    "# df_trips_zones"
   ]
  },
  {
   "cell_type": "code",
   "execution_count": null,
   "metadata": {
    "id": "FouJt5QW_9bi"
   },
   "outputs": [],
   "source": [
    "# df_trips_zones = df_trips_zones[df_trips_zones.trips>=15000]\n",
    "# df_trips_zones"
   ]
  },
  {
   "cell_type": "code",
   "execution_count": 42,
   "metadata": {
    "id": "KAcD_U68wYdo"
   },
   "outputs": [],
   "source": [
    "# df_stations_zone.to_csv('df_stations_zone.csv', index=False)"
   ]
  },
  {
   "cell_type": "code",
   "execution_count": 10,
   "metadata": {},
   "outputs": [
    {
     "data": {
      "text/html": [
       "<div>\n",
       "<style scoped>\n",
       "    .dataframe tbody tr th:only-of-type {\n",
       "        vertical-align: middle;\n",
       "    }\n",
       "\n",
       "    .dataframe tbody tr th {\n",
       "        vertical-align: top;\n",
       "    }\n",
       "\n",
       "    .dataframe thead th {\n",
       "        text-align: right;\n",
       "    }\n",
       "</style>\n",
       "<table border=\"1\" class=\"dataframe\">\n",
       "  <thead>\n",
       "    <tr style=\"text-align: right;\">\n",
       "      <th></th>\n",
       "      <th>zone</th>\n",
       "      <th>avg_lat</th>\n",
       "      <th>avg_lon</th>\n",
       "    </tr>\n",
       "  </thead>\n",
       "  <tbody>\n",
       "    <tr>\n",
       "      <th>0</th>\n",
       "      <td>Aldgate</td>\n",
       "      <td>51.51398</td>\n",
       "      <td>-0.07464</td>\n",
       "    </tr>\n",
       "    <tr>\n",
       "      <th>1</th>\n",
       "      <td>Angel</td>\n",
       "      <td>51.53324</td>\n",
       "      <td>-0.10652</td>\n",
       "    </tr>\n",
       "    <tr>\n",
       "      <th>2</th>\n",
       "      <td>Avondale</td>\n",
       "      <td>51.51154</td>\n",
       "      <td>-0.21514</td>\n",
       "    </tr>\n",
       "    <tr>\n",
       "      <th>3</th>\n",
       "      <td>Bank</td>\n",
       "      <td>51.51280</td>\n",
       "      <td>-0.09163</td>\n",
       "    </tr>\n",
       "    <tr>\n",
       "      <th>4</th>\n",
       "      <td>Bankside</td>\n",
       "      <td>51.50618</td>\n",
       "      <td>-0.09824</td>\n",
       "    </tr>\n",
       "  </tbody>\n",
       "</table>\n",
       "</div>"
      ],
      "text/plain": [
       "       zone   avg_lat  avg_lon\n",
       "0   Aldgate  51.51398 -0.07464\n",
       "1     Angel  51.53324 -0.10652\n",
       "2  Avondale  51.51154 -0.21514\n",
       "3      Bank  51.51280 -0.09163\n",
       "4  Bankside  51.50618 -0.09824"
      ]
     },
     "execution_count": 10,
     "metadata": {},
     "output_type": "execute_result"
    }
   ],
   "source": [
    "df_stations_zone = pd.read_csv(\"../data/df_stations_zone.csv\")\n",
    "df_stations_zone.head()"
   ]
  },
  {
   "cell_type": "code",
   "execution_count": 44,
   "metadata": {
    "id": "jEQb7ywcwhjs"
   },
   "outputs": [],
   "source": [
    "# df_trips_zones.to_csv('df_trips_zones.csv', index=False)"
   ]
  },
  {
   "cell_type": "code",
   "execution_count": 16,
   "metadata": {},
   "outputs": [
    {
     "name": "stdout",
     "output_type": "stream",
     "text": [
      "(838, 6)\n"
     ]
    },
    {
     "data": {
      "text/html": [
       "<div>\n",
       "<style scoped>\n",
       "    .dataframe tbody tr th:only-of-type {\n",
       "        vertical-align: middle;\n",
       "    }\n",
       "\n",
       "    .dataframe tbody tr th {\n",
       "        vertical-align: top;\n",
       "    }\n",
       "\n",
       "    .dataframe thead th {\n",
       "        text-align: right;\n",
       "    }\n",
       "</style>\n",
       "<table border=\"1\" class=\"dataframe\">\n",
       "  <thead>\n",
       "    <tr style=\"text-align: right;\">\n",
       "      <th></th>\n",
       "      <th>index</th>\n",
       "      <th>name</th>\n",
       "      <th>trips</th>\n",
       "      <th>lat</th>\n",
       "      <th>lon</th>\n",
       "      <th>trips_scaled</th>\n",
       "    </tr>\n",
       "  </thead>\n",
       "  <tbody>\n",
       "    <tr>\n",
       "      <th>0</th>\n",
       "      <td>4066</td>\n",
       "      <td>Hyde Park - Kensington Gardens</td>\n",
       "      <td>260185</td>\n",
       "      <td>(51.50562, 51.506)</td>\n",
       "      <td>(-0.16149, -0.18487)</td>\n",
       "      <td>1.000000</td>\n",
       "    </tr>\n",
       "    <tr>\n",
       "      <th>1</th>\n",
       "      <td>1265</td>\n",
       "      <td>Bethnal Green - Shoreditch</td>\n",
       "      <td>172041</td>\n",
       "      <td>(51.52744, 51.52416)</td>\n",
       "      <td>(-0.05739, -0.07619)</td>\n",
       "      <td>0.661224</td>\n",
       "    </tr>\n",
       "    <tr>\n",
       "      <th>2</th>\n",
       "      <td>3912</td>\n",
       "      <td>Holborn - Waterloo</td>\n",
       "      <td>165402</td>\n",
       "      <td>(51.51776, 51.50095)</td>\n",
       "      <td>(-0.11324, -0.11342)</td>\n",
       "      <td>0.635708</td>\n",
       "    </tr>\n",
       "    <tr>\n",
       "      <th>3</th>\n",
       "      <td>4075</td>\n",
       "      <td>Hyde Park - Mayfair</td>\n",
       "      <td>156800</td>\n",
       "      <td>(51.50562, 51.50988)</td>\n",
       "      <td>(-0.16149, -0.1479)</td>\n",
       "      <td>0.602647</td>\n",
       "    </tr>\n",
       "    <tr>\n",
       "      <th>4</th>\n",
       "      <td>683</td>\n",
       "      <td>Battersea - Clapham Junction</td>\n",
       "      <td>156729</td>\n",
       "      <td>(51.47151, 51.46406)</td>\n",
       "      <td>(-0.16366, -0.17169)</td>\n",
       "      <td>0.602374</td>\n",
       "    </tr>\n",
       "  </tbody>\n",
       "</table>\n",
       "</div>"
      ],
      "text/plain": [
       "   index                            name   trips                   lat  \\\n",
       "0   4066  Hyde Park - Kensington Gardens  260185    (51.50562, 51.506)   \n",
       "1   1265      Bethnal Green - Shoreditch  172041  (51.52744, 51.52416)   \n",
       "2   3912              Holborn - Waterloo  165402  (51.51776, 51.50095)   \n",
       "3   4075             Hyde Park - Mayfair  156800  (51.50562, 51.50988)   \n",
       "4    683    Battersea - Clapham Junction  156729  (51.47151, 51.46406)   \n",
       "\n",
       "                    lon  trips_scaled  \n",
       "0  (-0.16149, -0.18487)      1.000000  \n",
       "1  (-0.05739, -0.07619)      0.661224  \n",
       "2  (-0.11324, -0.11342)      0.635708  \n",
       "3   (-0.16149, -0.1479)      0.602647  \n",
       "4  (-0.16366, -0.17169)      0.602374  "
      ]
     },
     "execution_count": 16,
     "metadata": {},
     "output_type": "execute_result"
    }
   ],
   "source": [
    "df_trips_zones = pd.read_csv(\"../data/df_trips_zones.csv\")\n",
    "print(df_trips_zones.shape)\n",
    "df_trips_zones.head()"
   ]
  },
  {
   "cell_type": "code",
   "execution_count": 21,
   "metadata": {},
   "outputs": [
    {
     "data": {
      "text/plain": [
       "0        (51.50562, 51.506)\n",
       "1      (51.52744, 51.52416)\n",
       "2      (51.51776, 51.50095)\n",
       "3      (51.50562, 51.50988)\n",
       "4      (51.47151, 51.46406)\n",
       "               ...         \n",
       "833    (51.49946, 51.50562)\n",
       "834     (51.52011, 51.5262)\n",
       "835     (51.5128, 51.52744)\n",
       "836    (51.53821, 51.51554)\n",
       "837    (51.51398, 51.50561)\n",
       "Name: lat, Length: 838, dtype: object"
      ]
     },
     "execution_count": 21,
     "metadata": {},
     "output_type": "execute_result"
    }
   ],
   "source": [
    "df_trips_zones['lat']"
   ]
  },
  {
   "cell_type": "code",
   "execution_count": 12,
   "metadata": {
    "id": "78SUQcWl_9bi"
   },
   "outputs": [],
   "source": [
    "# center= {'lat': df_trips_grouped['avg_lat_start'].mean(), 'lon': df_trips_grouped['avg_lon_start'].mean()}\n",
    "\n",
    "center = {'lat': 51.509865, 'lon': -0.118092}"
   ]
  },
  {
   "cell_type": "code",
   "execution_count": 18,
   "metadata": {
    "colab": {
     "base_uri": "https://localhost:8080/",
     "height": 717
    },
    "id": "rq2dl-vX5XCF",
    "outputId": "3cc45352-b74d-4d3e-b655-d9265baeb103"
   },
   "outputs": [
    {
     "ename": "ValueError",
     "evalue": "\n    Invalid value of type 'builtins.str' received for the 'lat' property of scattermapbox\n        Received value: '(51.50562, 51.506)'\n\n    The 'lat' property is an array that may be specified as a tuple,\n    list, numpy array, or pandas Series",
     "output_type": "error",
     "traceback": [
      "\u001b[0;31m---------------------------------------------------------------------------\u001b[0m",
      "\u001b[0;31mValueError\u001b[0m                                Traceback (most recent call last)",
      "Cell \u001b[0;32mIn [18], line 16\u001b[0m\n\u001b[1;32m      4\u001b[0m fig \u001b[38;5;241m=\u001b[39m px\u001b[38;5;241m.\u001b[39mscatter_mapbox(data_frame\u001b[38;5;241m=\u001b[39mdf_stations_zone,\n\u001b[1;32m      5\u001b[0m                         lat\u001b[38;5;241m=\u001b[39m\u001b[38;5;124m'\u001b[39m\u001b[38;5;124mavg_lat\u001b[39m\u001b[38;5;124m'\u001b[39m, lon\u001b[38;5;241m=\u001b[39m\u001b[38;5;124m'\u001b[39m\u001b[38;5;124mavg_lon\u001b[39m\u001b[38;5;124m'\u001b[39m,\n\u001b[1;32m      6\u001b[0m                         center\u001b[38;5;241m=\u001b[39m center,\n\u001b[0;32m   (...)\u001b[0m\n\u001b[1;32m     12\u001b[0m                         \n\u001b[1;32m     13\u001b[0m                         )\n\u001b[1;32m     14\u001b[0m \u001b[38;5;28;01mfor\u001b[39;00m i \u001b[38;5;129;01min\u001b[39;00m \u001b[38;5;28mrange\u001b[39m(\u001b[38;5;28mlen\u001b[39m(df_trips_zones)):\n\u001b[1;32m     15\u001b[0m     fig\u001b[38;5;241m.\u001b[39madd_trace(\n\u001b[0;32m---> 16\u001b[0m         go\u001b[38;5;241m.\u001b[39mScattermapbox(\n\u001b[1;32m     17\u001b[0m             lon \u001b[38;5;241m=\u001b[39m df_trips_zones[\u001b[38;5;124m'\u001b[39m\u001b[38;5;124mlon\u001b[39m\u001b[38;5;124m'\u001b[39m][i],\n\u001b[1;32m     18\u001b[0m             lat \u001b[38;5;241m=\u001b[39m df_trips_zones[\u001b[38;5;124m'\u001b[39m\u001b[38;5;124mlat\u001b[39m\u001b[38;5;124m'\u001b[39m][i],\n\u001b[1;32m     19\u001b[0m             mode \u001b[38;5;241m=\u001b[39m \u001b[38;5;124m'\u001b[39m\u001b[38;5;124mlines\u001b[39m\u001b[38;5;124m'\u001b[39m,\n\u001b[1;32m     20\u001b[0m             line \u001b[38;5;241m=\u001b[39m \u001b[38;5;28mdict\u001b[39m(width \u001b[38;5;241m=\u001b[39m \u001b[38;5;241m2\u001b[39m,color \u001b[38;5;241m=\u001b[39m \u001b[38;5;124m'\u001b[39m\u001b[38;5;124mred\u001b[39m\u001b[38;5;124m'\u001b[39m),\n\u001b[1;32m     21\u001b[0m             opacity \u001b[38;5;241m=\u001b[39m df_trips_zones[\u001b[38;5;124m'\u001b[39m\u001b[38;5;124mtrips_scaled\u001b[39m\u001b[38;5;124m'\u001b[39m][i],\n\u001b[1;32m     22\u001b[0m             name\u001b[38;5;241m=\u001b[39mdf_trips_zones[\u001b[38;5;124m'\u001b[39m\u001b[38;5;124mname\u001b[39m\u001b[38;5;124m'\u001b[39m][i],\n\u001b[1;32m     23\u001b[0m             hovertext\u001b[38;5;241m=\u001b[39mdf_trips_zones[\u001b[38;5;124m'\u001b[39m\u001b[38;5;124mname\u001b[39m\u001b[38;5;124m'\u001b[39m][i]\n\u001b[1;32m     24\u001b[0m         )\n\u001b[1;32m     25\u001b[0m     )\n\u001b[1;32m     27\u001b[0m \u001b[38;5;66;03m# fig.update_layout(px.scatter_mapbox(\u001b[39;00m\n\u001b[1;32m     28\u001b[0m \u001b[38;5;66;03m#                   marker = {'color': scaled_trip_total,\u001b[39;00m\n\u001b[1;32m     29\u001b[0m \u001b[38;5;66;03m#                   'size': 5,\u001b[39;00m\n\u001b[1;32m     30\u001b[0m \u001b[38;5;66;03m#                   'opacity': 0.6}))\u001b[39;00m\n\u001b[1;32m     32\u001b[0m fig\u001b[38;5;241m.\u001b[39mshow()\n",
      "File \u001b[0;32m~/.pyenv/versions/3.10.6/envs/lewagon/lib/python3.10/site-packages/plotly/graph_objs/_scattermapbox.py:1988\u001b[0m, in \u001b[0;36mScattermapbox.__init__\u001b[0;34m(self, arg, below, connectgaps, customdata, customdatasrc, fill, fillcolor, hoverinfo, hoverinfosrc, hoverlabel, hovertemplate, hovertemplatesrc, hovertext, hovertextsrc, ids, idssrc, lat, latsrc, legendgroup, legendgrouptitle, legendrank, line, lon, lonsrc, marker, meta, metasrc, mode, name, opacity, selected, selectedpoints, showlegend, stream, subplot, text, textfont, textposition, textsrc, texttemplate, texttemplatesrc, uid, uirevision, unselected, visible, **kwargs)\u001b[0m\n\u001b[1;32m   1986\u001b[0m _v \u001b[38;5;241m=\u001b[39m lat \u001b[38;5;28;01mif\u001b[39;00m lat \u001b[38;5;129;01mis\u001b[39;00m \u001b[38;5;129;01mnot\u001b[39;00m \u001b[38;5;28;01mNone\u001b[39;00m \u001b[38;5;28;01melse\u001b[39;00m _v\n\u001b[1;32m   1987\u001b[0m \u001b[38;5;28;01mif\u001b[39;00m _v \u001b[38;5;129;01mis\u001b[39;00m \u001b[38;5;129;01mnot\u001b[39;00m \u001b[38;5;28;01mNone\u001b[39;00m:\n\u001b[0;32m-> 1988\u001b[0m     \u001b[38;5;28;43mself\u001b[39;49m\u001b[43m[\u001b[49m\u001b[38;5;124;43m\"\u001b[39;49m\u001b[38;5;124;43mlat\u001b[39;49m\u001b[38;5;124;43m\"\u001b[39;49m\u001b[43m]\u001b[49m \u001b[38;5;241m=\u001b[39m _v\n\u001b[1;32m   1989\u001b[0m _v \u001b[38;5;241m=\u001b[39m arg\u001b[38;5;241m.\u001b[39mpop(\u001b[38;5;124m\"\u001b[39m\u001b[38;5;124mlatsrc\u001b[39m\u001b[38;5;124m\"\u001b[39m, \u001b[38;5;28;01mNone\u001b[39;00m)\n\u001b[1;32m   1990\u001b[0m _v \u001b[38;5;241m=\u001b[39m latsrc \u001b[38;5;28;01mif\u001b[39;00m latsrc \u001b[38;5;129;01mis\u001b[39;00m \u001b[38;5;129;01mnot\u001b[39;00m \u001b[38;5;28;01mNone\u001b[39;00m \u001b[38;5;28;01melse\u001b[39;00m _v\n",
      "File \u001b[0;32m~/.pyenv/versions/3.10.6/envs/lewagon/lib/python3.10/site-packages/plotly/basedatatypes.py:4859\u001b[0m, in \u001b[0;36mBasePlotlyType.__setitem__\u001b[0;34m(self, prop, value)\u001b[0m\n\u001b[1;32m   4855\u001b[0m         \u001b[38;5;28mself\u001b[39m\u001b[38;5;241m.\u001b[39m_set_array_prop(prop, value)\n\u001b[1;32m   4857\u001b[0m     \u001b[38;5;66;03m# ### Handle simple property ###\u001b[39;00m\n\u001b[1;32m   4858\u001b[0m     \u001b[38;5;28;01melse\u001b[39;00m:\n\u001b[0;32m-> 4859\u001b[0m         \u001b[38;5;28;43mself\u001b[39;49m\u001b[38;5;241;43m.\u001b[39;49m\u001b[43m_set_prop\u001b[49m\u001b[43m(\u001b[49m\u001b[43mprop\u001b[49m\u001b[43m,\u001b[49m\u001b[43m \u001b[49m\u001b[43mvalue\u001b[49m\u001b[43m)\u001b[49m\n\u001b[1;32m   4860\u001b[0m \u001b[38;5;28;01melse\u001b[39;00m:\n\u001b[1;32m   4861\u001b[0m     \u001b[38;5;66;03m# Make sure properties dict is initialized\u001b[39;00m\n\u001b[1;32m   4862\u001b[0m     \u001b[38;5;28mself\u001b[39m\u001b[38;5;241m.\u001b[39m_init_props()\n",
      "File \u001b[0;32m~/.pyenv/versions/3.10.6/envs/lewagon/lib/python3.10/site-packages/plotly/basedatatypes.py:5203\u001b[0m, in \u001b[0;36mBasePlotlyType._set_prop\u001b[0;34m(self, prop, val)\u001b[0m\n\u001b[1;32m   5201\u001b[0m         \u001b[38;5;28;01mreturn\u001b[39;00m\n\u001b[1;32m   5202\u001b[0m     \u001b[38;5;28;01melse\u001b[39;00m:\n\u001b[0;32m-> 5203\u001b[0m         \u001b[38;5;28;01mraise\u001b[39;00m err\n\u001b[1;32m   5205\u001b[0m \u001b[38;5;66;03m# val is None\u001b[39;00m\n\u001b[1;32m   5206\u001b[0m \u001b[38;5;66;03m# -----------\u001b[39;00m\n\u001b[1;32m   5207\u001b[0m \u001b[38;5;28;01mif\u001b[39;00m val \u001b[38;5;129;01mis\u001b[39;00m \u001b[38;5;28;01mNone\u001b[39;00m:\n\u001b[1;32m   5208\u001b[0m     \u001b[38;5;66;03m# Check if we should send null update\u001b[39;00m\n",
      "File \u001b[0;32m~/.pyenv/versions/3.10.6/envs/lewagon/lib/python3.10/site-packages/plotly/basedatatypes.py:5198\u001b[0m, in \u001b[0;36mBasePlotlyType._set_prop\u001b[0;34m(self, prop, val)\u001b[0m\n\u001b[1;32m   5195\u001b[0m validator \u001b[38;5;241m=\u001b[39m \u001b[38;5;28mself\u001b[39m\u001b[38;5;241m.\u001b[39m_get_validator(prop)\n\u001b[1;32m   5197\u001b[0m \u001b[38;5;28;01mtry\u001b[39;00m:\n\u001b[0;32m-> 5198\u001b[0m     val \u001b[38;5;241m=\u001b[39m \u001b[43mvalidator\u001b[49m\u001b[38;5;241;43m.\u001b[39;49m\u001b[43mvalidate_coerce\u001b[49m\u001b[43m(\u001b[49m\u001b[43mval\u001b[49m\u001b[43m)\u001b[49m\n\u001b[1;32m   5199\u001b[0m \u001b[38;5;28;01mexcept\u001b[39;00m \u001b[38;5;167;01mValueError\u001b[39;00m \u001b[38;5;28;01mas\u001b[39;00m err:\n\u001b[1;32m   5200\u001b[0m     \u001b[38;5;28;01mif\u001b[39;00m \u001b[38;5;28mself\u001b[39m\u001b[38;5;241m.\u001b[39m_skip_invalid:\n",
      "File \u001b[0;32m~/.pyenv/versions/3.10.6/envs/lewagon/lib/python3.10/site-packages/_plotly_utils/basevalidators.py:404\u001b[0m, in \u001b[0;36mDataArrayValidator.validate_coerce\u001b[0;34m(self, v)\u001b[0m\n\u001b[1;32m    402\u001b[0m     v \u001b[38;5;241m=\u001b[39m to_scalar_or_list(v)\n\u001b[1;32m    403\u001b[0m \u001b[38;5;28;01melse\u001b[39;00m:\n\u001b[0;32m--> 404\u001b[0m     \u001b[38;5;28;43mself\u001b[39;49m\u001b[38;5;241;43m.\u001b[39;49m\u001b[43mraise_invalid_val\u001b[49m\u001b[43m(\u001b[49m\u001b[43mv\u001b[49m\u001b[43m)\u001b[49m\n\u001b[1;32m    405\u001b[0m \u001b[38;5;28;01mreturn\u001b[39;00m v\n",
      "File \u001b[0;32m~/.pyenv/versions/3.10.6/envs/lewagon/lib/python3.10/site-packages/_plotly_utils/basevalidators.py:288\u001b[0m, in \u001b[0;36mBaseValidator.raise_invalid_val\u001b[0;34m(self, v, inds)\u001b[0m\n\u001b[1;32m    285\u001b[0m             \u001b[38;5;28;01mfor\u001b[39;00m i \u001b[38;5;129;01min\u001b[39;00m inds:\n\u001b[1;32m    286\u001b[0m                 name \u001b[38;5;241m+\u001b[39m\u001b[38;5;241m=\u001b[39m \u001b[38;5;124m\"\u001b[39m\u001b[38;5;124m[\u001b[39m\u001b[38;5;124m\"\u001b[39m \u001b[38;5;241m+\u001b[39m \u001b[38;5;28mstr\u001b[39m(i) \u001b[38;5;241m+\u001b[39m \u001b[38;5;124m\"\u001b[39m\u001b[38;5;124m]\u001b[39m\u001b[38;5;124m\"\u001b[39m\n\u001b[0;32m--> 288\u001b[0m         \u001b[38;5;28;01mraise\u001b[39;00m \u001b[38;5;167;01mValueError\u001b[39;00m(\n\u001b[1;32m    289\u001b[0m             \u001b[38;5;124;03m\"\"\"\u001b[39;00m\n\u001b[1;32m    290\u001b[0m \u001b[38;5;124;03m    Invalid value of type {typ} received for the '{name}' property of {pname}\u001b[39;00m\n\u001b[1;32m    291\u001b[0m \u001b[38;5;124;03m        Received value: {v}\u001b[39;00m\n\u001b[1;32m    292\u001b[0m \n\u001b[1;32m    293\u001b[0m \u001b[38;5;124;03m{valid_clr_desc}\"\"\"\u001b[39;00m\u001b[38;5;241m.\u001b[39mformat(\n\u001b[1;32m    294\u001b[0m                 name\u001b[38;5;241m=\u001b[39mname,\n\u001b[1;32m    295\u001b[0m                 pname\u001b[38;5;241m=\u001b[39m\u001b[38;5;28mself\u001b[39m\u001b[38;5;241m.\u001b[39mparent_name,\n\u001b[1;32m    296\u001b[0m                 typ\u001b[38;5;241m=\u001b[39mtype_str(v),\n\u001b[1;32m    297\u001b[0m                 v\u001b[38;5;241m=\u001b[39m\u001b[38;5;28mrepr\u001b[39m(v),\n\u001b[1;32m    298\u001b[0m                 valid_clr_desc\u001b[38;5;241m=\u001b[39m\u001b[38;5;28mself\u001b[39m\u001b[38;5;241m.\u001b[39mdescription(),\n\u001b[1;32m    299\u001b[0m             )\n\u001b[1;32m    300\u001b[0m         )\n",
      "\u001b[0;31mValueError\u001b[0m: \n    Invalid value of type 'builtins.str' received for the 'lat' property of scattermapbox\n        Received value: '(51.50562, 51.506)'\n\n    The 'lat' property is an array that may be specified as a tuple,\n    list, numpy array, or pandas Series"
     ]
    }
   ],
   "source": [
    "# max_trips= float(df_trips_grouped['trips'].max())\n",
    "px.set_mapbox_access_token('pk.eyJ1Ijoiam1oYmF1ZGluNzUiLCJhIjoiY2xkYWY0aTh4MGYzaTN2bnB6NTVqcXlqeCJ9.k7_gsD6_d6aeh9EhU_0Nvw')\n",
    "\n",
    "fig = px.scatter_mapbox(data_frame=df_stations_zone,\n",
    "                        lat='avg_lat', lon='avg_lon',\n",
    "                        center= center,\n",
    "                        zoom=11,\n",
    "                        width= 1500,\n",
    "                        height= 700,\n",
    "                        text=df_stations_zone.zone,\n",
    "                        # size_max=0.1,\n",
    "                        \n",
    "                        )\n",
    "for i in range(len(df_trips_zones)):\n",
    "    fig.add_trace(\n",
    "        go.Scattermapbox(\n",
    "            lon = df_trips_zones['lon'][i],\n",
    "            lat = df_trips_zones['lat'][i],\n",
    "            mode = 'lines',\n",
    "            line = dict(width = 2,color = 'red'),\n",
    "            opacity = df_trips_zones['trips_scaled'][i],\n",
    "            name=df_trips_zones['name'][i],\n",
    "            hovertext=df_trips_zones['name'][i]\n",
    "        )\n",
    "    )\n",
    "\n",
    "# fig.update_layout(px.scatter_mapbox(\n",
    "#                   marker = {'color': scaled_trip_total,\n",
    "#                   'size': 5,\n",
    "#                   'opacity': 0.6}))\n",
    "\n",
    "fig.show()"
   ]
  },
  {
   "cell_type": "code",
   "execution_count": 48,
   "metadata": {
    "id": "lNtdx31vV3Wh"
   },
   "outputs": [],
   "source": [
    "df_stations_zone.to_csv('df_stations_zone.csv', index=False)"
   ]
  },
  {
   "cell_type": "code",
   "execution_count": 47,
   "metadata": {
    "id": "KR5FDoM5VnUv"
   },
   "outputs": [],
   "source": [
    "df_trips_zones.to_csv('df_trips_zones.csv', index=False)"
   ]
  }
 ],
 "metadata": {
  "colab": {
   "provenance": []
  },
  "kernelspec": {
   "display_name": "Python 3 (ipykernel)",
   "language": "python",
   "name": "python3"
  },
  "language_info": {
   "codemirror_mode": {
    "name": "ipython",
    "version": 3
   },
   "file_extension": ".py",
   "mimetype": "text/x-python",
   "name": "python",
   "nbconvert_exporter": "python",
   "pygments_lexer": "ipython3",
   "version": "3.10.6"
  },
  "toc": {
   "base_numbering": 1,
   "nav_menu": {},
   "number_sections": true,
   "sideBar": true,
   "skip_h1_title": false,
   "title_cell": "Table of Contents",
   "title_sidebar": "Contents",
   "toc_cell": false,
   "toc_position": {},
   "toc_section_display": true,
   "toc_window_display": false
  }
 },
 "nbformat": 4,
 "nbformat_minor": 1
}
